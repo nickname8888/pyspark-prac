{
  "nbformat": 4,
  "nbformat_minor": 0,
  "metadata": {
    "colab": {
      "provenance": [],
      "authorship_tag": "ABX9TyM77UftaLeBYIB+WCqaWuuY",
      "include_colab_link": true
    },
    "kernelspec": {
      "name": "python3",
      "display_name": "Python 3"
    },
    "language_info": {
      "name": "python"
    }
  },
  "cells": [
    {
      "cell_type": "markdown",
      "metadata": {
        "id": "view-in-github",
        "colab_type": "text"
      },
      "source": [
        "<a href=\"https://colab.research.google.com/github/nickname8888/pyspark-prac/blob/main/spark_sql_eda.ipynb\" target=\"_parent\"><img src=\"https://colab.research.google.com/assets/colab-badge.svg\" alt=\"Open In Colab\"/></a>"
      ]
    },
    {
      "cell_type": "code",
      "execution_count": 4,
      "metadata": {
        "id": "nzUqr6ebC3Zv"
      },
      "outputs": [],
      "source": [
        "from pyspark.sql import SparkSession\n",
        "\n",
        "spark = SparkSession.builder.appName(\"spark-sql-analyzer\").getOrCreate()\n",
        "\n",
        "df = spark.read.csv(\"/content/imdb_top_1000.csv\", header=True, inferSchema=True)\n",
        "\n",
        "df.createOrReplaceTempView(\"imdb_movies\")"
      ]
    },
    {
      "cell_type": "code",
      "source": [
        "spark.sql(\"SELECT * FROM imdb_movies LIMIT 5\").show()"
      ],
      "metadata": {
        "colab": {
          "base_uri": "https://localhost:8080/"
        },
        "id": "QxgnfRStG10X",
        "outputId": "dbe5d368-e59d-4a90-c935-ba493ac0b1fa"
      },
      "execution_count": 5,
      "outputs": [
        {
          "output_type": "stream",
          "name": "stdout",
          "text": [
            "+--------------------+--------------------+-------------+-----------+-------+--------------------+-----------+--------------------+----------+--------------------+--------------+--------------+-------------+--------------+-----------+-----------+\n",
            "|         Poster_Link|        Series_Title|Released_Year|Certificate|Runtime|               Genre|IMDB_Rating|            Overview|Meta_score|            Director|         Star1|         Star2|        Star3|         Star4|No_of_Votes|      Gross|\n",
            "+--------------------+--------------------+-------------+-----------+-------+--------------------+-----------+--------------------+----------+--------------------+--------------+--------------+-------------+--------------+-----------+-----------+\n",
            "|https://m.media-a...|The Shawshank Red...|         1994|          A|142 min|               Drama|        9.3|Two imprisoned me...|        80|      Frank Darabont|   Tim Robbins|Morgan Freeman|   Bob Gunton|William Sadler|    2343110| 28,341,469|\n",
            "|https://m.media-a...|       The Godfather|         1972|          A|175 min|        Crime, Drama|        9.2|An organized crim...|       100|Francis Ford Coppola| Marlon Brando|     Al Pacino|   James Caan|  Diane Keaton|    1620367|134,966,411|\n",
            "|https://m.media-a...|     The Dark Knight|         2008|         UA|152 min|Action, Crime, Drama|        9.0|When the menace k...|        84|   Christopher Nolan|Christian Bale|  Heath Ledger|Aaron Eckhart| Michael Caine|    2303232|534,858,444|\n",
            "|https://m.media-a...|The Godfather: Pa...|         1974|          A|202 min|        Crime, Drama|        9.0|The early life an...|        90|Francis Ford Coppola|     Al Pacino|Robert De Niro|Robert Duvall|  Diane Keaton|    1129952| 57,300,000|\n",
            "|https://m.media-a...|        12 Angry Men|         1957|          U| 96 min|        Crime, Drama|        9.0|A jury holdout at...|        96|        Sidney Lumet|   Henry Fonda|   Lee J. Cobb|Martin Balsam|  John Fiedler|     689845|  4,360,000|\n",
            "+--------------------+--------------------+-------------+-----------+-------+--------------------+-----------+--------------------+----------+--------------------+--------------+--------------+-------------+--------------+-----------+-----------+\n",
            "\n"
          ]
        }
      ]
    },
    {
      "cell_type": "code",
      "source": [
        "spark.sql(\"DESCRIBE imdb_movies\").show()"
      ],
      "metadata": {
        "colab": {
          "base_uri": "https://localhost:8080/"
        },
        "id": "pX28e8jRHGUl",
        "outputId": "1fb67521-e75e-42e6-e257-d940b439b659"
      },
      "execution_count": 6,
      "outputs": [
        {
          "output_type": "stream",
          "name": "stdout",
          "text": [
            "+-------------+---------+-------+\n",
            "|     col_name|data_type|comment|\n",
            "+-------------+---------+-------+\n",
            "|  Poster_Link|   string|   NULL|\n",
            "| Series_Title|   string|   NULL|\n",
            "|Released_Year|   string|   NULL|\n",
            "|  Certificate|   string|   NULL|\n",
            "|      Runtime|   string|   NULL|\n",
            "|        Genre|   string|   NULL|\n",
            "|  IMDB_Rating|   double|   NULL|\n",
            "|     Overview|   string|   NULL|\n",
            "|   Meta_score|   string|   NULL|\n",
            "|     Director|   string|   NULL|\n",
            "|        Star1|   string|   NULL|\n",
            "|        Star2|   string|   NULL|\n",
            "|        Star3|   string|   NULL|\n",
            "|        Star4|   string|   NULL|\n",
            "|  No_of_Votes|   string|   NULL|\n",
            "|        Gross|   string|   NULL|\n",
            "+-------------+---------+-------+\n",
            "\n"
          ]
        }
      ]
    },
    {
      "cell_type": "code",
      "source": [
        "# count NULL values in all columns\n",
        "\n",
        "spark.sql(\"\"\"\n",
        "SELECT\n",
        "    SUM(CASE WHEN Poster_Link IS NULL THEN 1 ELSE 0 END) AS Poster_Link_nulls,\n",
        "    SUM(CASE WHEN Series_Title IS NULL THEN 1 ELSE 0 END) AS Series_Title_nulls,\n",
        "    SUM(CASE WHEN Released_Year IS NULL THEN 1 ELSE 0 END) AS Released_Year_nulls,\n",
        "    SUM(CASE WHEN Certificate IS NULL THEN 1 ELSE 0 END) AS Certificate_nulls,\n",
        "    SUM(CASE WHEN Runtime IS NULL THEN 1 ELSE 0 END) AS Runtime_nulls,\n",
        "    SUM(CASE WHEN Genre IS NULL THEN 1 ELSE 0 END) AS Genre_nulls,\n",
        "    SUM(CASE WHEN IMDB_Rating IS NULL THEN 1 ELSE 0 END) AS IMDB_Rating_nulls,\n",
        "    SUM(CASE WHEN Overview IS NULL THEN 1 ELSE 0 END) AS Overview_nulls,\n",
        "    SUM(CASE WHEN Meta_score IS NULL THEN 1 ELSE 0 END) AS Meta_score_nulls,\n",
        "    SUM(CASE WHEN No_of_Votes IS NULL THEN 1 ELSE 0 END) AS No_of_Votes_nulls,\n",
        "    SUM(CASE WHEN Gross IS NULL THEN 1 ELSE 0 END) AS Gross_nulls\n",
        "FROM imdb_movies\n",
        "\"\"\").show()"
      ],
      "metadata": {
        "colab": {
          "base_uri": "https://localhost:8080/"
        },
        "id": "cc7VTbOJHrtI",
        "outputId": "39194783-1f66-4f25-c600-e1478f0013f6"
      },
      "execution_count": 11,
      "outputs": [
        {
          "output_type": "stream",
          "name": "stdout",
          "text": [
            "+-----------------+------------------+-------------------+-----------------+-------------+-----------+-----------------+--------------+----------------+-----------------+-----------+\n",
            "|Poster_Link_nulls|Series_Title_nulls|Released_Year_nulls|Certificate_nulls|Runtime_nulls|Genre_nulls|IMDB_Rating_nulls|Overview_nulls|Meta_score_nulls|No_of_Votes_nulls|Gross_nulls|\n",
            "+-----------------+------------------+-------------------+-----------------+-------------+-----------+-----------------+--------------+----------------+-----------------+-----------+\n",
            "|                0|                 0|                  0|              101|            0|          0|                0|             0|             156|                0|        169|\n",
            "+-----------------+------------------+-------------------+-----------------+-------------+-----------+-----------------+--------------+----------------+-----------------+-----------+\n",
            "\n"
          ]
        }
      ]
    },
    {
      "cell_type": "code",
      "source": [
        "# no need to drop anythiing as missing values are not particularly relevant in this case"
      ],
      "metadata": {
        "id": "l1oYzIPCKksK"
      },
      "execution_count": null,
      "outputs": []
    },
    {
      "cell_type": "code",
      "source": [
        "# basic stats\n",
        "\n",
        "spark.sql(\"SELECT COUNT(*) AS Total_Movies FROM imdb_movies\").show()"
      ],
      "metadata": {
        "colab": {
          "base_uri": "https://localhost:8080/"
        },
        "id": "F_tuPWO_K7ES",
        "outputId": "ac703f3e-56b3-4421-b85d-4564d78c4bfe"
      },
      "execution_count": 12,
      "outputs": [
        {
          "output_type": "stream",
          "name": "stdout",
          "text": [
            "+------------+\n",
            "|Total_Movies|\n",
            "+------------+\n",
            "|        1000|\n",
            "+------------+\n",
            "\n"
          ]
        }
      ]
    },
    {
      "cell_type": "code",
      "source": [
        "spark.sql(\"SELECT AVG(IMDB_Rating) AS Avg_Rating FROM imdb_movies\").show()"
      ],
      "metadata": {
        "colab": {
          "base_uri": "https://localhost:8080/"
        },
        "id": "LQrI1k1FLIsw",
        "outputId": "ca2f6473-6117-46e1-e62d-30e7687ac0ec"
      },
      "execution_count": 14,
      "outputs": [
        {
          "output_type": "stream",
          "name": "stdout",
          "text": [
            "+-----------------+\n",
            "|       Avg_Rating|\n",
            "+-----------------+\n",
            "|7.949300000000012|\n",
            "+-----------------+\n",
            "\n"
          ]
        }
      ]
    },
    {
      "cell_type": "code",
      "source": [
        "spark.sql(\"\"\"\n",
        "SELECT Series_Title, IMDB_Rating\n",
        "FROM imdb_movies\n",
        "ORDER BY IMDB_Rating DESC\n",
        "LIMIT 5\n",
        "\"\"\").show()\n"
      ],
      "metadata": {
        "colab": {
          "base_uri": "https://localhost:8080/"
        },
        "id": "VeK4FUXzLQgb",
        "outputId": "28299320-8592-4cf1-b952-c3f3e86fefc5"
      },
      "execution_count": 16,
      "outputs": [
        {
          "output_type": "stream",
          "name": "stdout",
          "text": [
            "+--------------------+-----------+\n",
            "|        Series_Title|IMDB_Rating|\n",
            "+--------------------+-----------+\n",
            "|The Shawshank Red...|        9.3|\n",
            "|       The Godfather|        9.2|\n",
            "|     The Dark Knight|        9.0|\n",
            "|The Godfather: Pa...|        9.0|\n",
            "|        12 Angry Men|        9.0|\n",
            "+--------------------+-----------+\n",
            "\n"
          ]
        }
      ]
    },
    {
      "cell_type": "code",
      "source": [
        "# get most popular genres of movies\n",
        "\n",
        "spark.sql(\"\"\"\n",
        "SELECT Genre, COUNT(*) AS Movie_count\n",
        "FROM imdb_movies\n",
        "GROUP BY Genre\n",
        "ORDER BY Movie_count DESC\n",
        "LIMIT 5\n",
        "\"\"\").show()"
      ],
      "metadata": {
        "colab": {
          "base_uri": "https://localhost:8080/"
        },
        "id": "QcF-vFF1LlSt",
        "outputId": "914a62dd-c640-4191-f613-d1051395a6c2"
      },
      "execution_count": 18,
      "outputs": [
        {
          "output_type": "stream",
          "name": "stdout",
          "text": [
            "+--------------------+-----------+\n",
            "|               Genre|Movie_count|\n",
            "+--------------------+-----------+\n",
            "|               Drama|         85|\n",
            "|      Drama, Romance|         37|\n",
            "|       Comedy, Drama|         35|\n",
            "|Comedy, Drama, Ro...|         31|\n",
            "|Action, Crime, Drama|         30|\n",
            "+--------------------+-----------+\n",
            "\n"
          ]
        }
      ]
    },
    {
      "cell_type": "code",
      "source": [
        "# average revenue per genre\n",
        "\n",
        "spark.sql(\n",
        "    \"\"\"\n",
        "    SELECT Genre, AVG(CAST(REPLACE(Gross, ',', '') AS FLOAT)) AS Avg_Revenue\n",
        "    FROM imdb_movies\n",
        "    GROUP BY Genre\n",
        "    ORDER BY Avg_Revenue DESC\n",
        "    LIMIT 5\n",
        "    \"\"\"\n",
        ").show()\n"
      ],
      "metadata": {
        "colab": {
          "base_uri": "https://localhost:8080/"
        },
        "id": "gAVSOoMsL8p-",
        "outputId": "a5392a30-29ca-416f-cfd2-e67b406fdc17"
      },
      "execution_count": 19,
      "outputs": [
        {
          "output_type": "stream",
          "name": "stdout",
          "text": [
            "+--------------------+-------------------+\n",
            "|               Genre|        Avg_Revenue|\n",
            "+--------------------+-------------------+\n",
            "|      Family, Sci-Fi|        4.3511056E8|\n",
            "|Action, Adventure...|      3.621854256E8|\n",
            "|Action, Adventure...|         3.019592E8|\n",
            "|Action, Adventure...|2.808885443333333E8|\n",
            "|  Adventure, Fantasy|       2.80685216E8|\n",
            "+--------------------+-------------------+\n",
            "\n"
          ]
        }
      ]
    },
    {
      "cell_type": "code",
      "source": [
        "# creating a director summary table\n",
        "\n",
        "director_ratings = spark.sql(\n",
        "    \"\"\"\n",
        "    SELECT Director, AVG(IMDB_Rating) AS Avg_Rating, COUNT(*) AS Movie_Count\n",
        "    FROM imdb_movies\n",
        "    GROUP BY Director\n",
        "    ORDER BY Avg_Rating DESC\n",
        "    \"\"\"\n",
        ")\n",
        "\n",
        "director_ratings.createOrReplaceTempView(\"director_ratings\")"
      ],
      "metadata": {
        "id": "PsitnQVUMS94"
      },
      "execution_count": 20,
      "outputs": []
    },
    {
      "cell_type": "code",
      "source": [
        "# top 5 directors in terms of imdb ratings\n",
        "\n",
        "spark.sql(\n",
        "    \"\"\"\n",
        "    SELECT Director, Avg_Rating, Movie_Count\n",
        "    FROM director_ratings\n",
        "    ORDER BY Avg_Rating DESC\n",
        "    LIMIT 5\n",
        "    \"\"\"\n",
        ").show()"
      ],
      "metadata": {
        "colab": {
          "base_uri": "https://localhost:8080/"
        },
        "id": "0YkANVd1MlBs",
        "outputId": "69ccfe7a-d241-4bd2-e6b8-76ff62132383"
      },
      "execution_count": 23,
      "outputs": [
        {
          "output_type": "stream",
          "name": "stdout",
          "text": [
            "+---------------+----------+-----------+\n",
            "|       Director|Avg_Rating|Movie_Count|\n",
            "+---------------+----------+-----------+\n",
            "| Frank Darabont|      8.95|          2|\n",
            "| Irvin Kershner|       8.7|          1|\n",
            "| Lana Wachowski|       8.7|          1|\n",
            "|Roberto Benigni|       8.6|          1|\n",
            "|    Thomas Kail|       8.6|          1|\n",
            "+---------------+----------+-----------+\n",
            "\n"
          ]
        }
      ]
    },
    {
      "cell_type": "code",
      "source": [
        "# where is Nolan?\n",
        "\n",
        "spark.sql(\n",
        "    \"\"\"\n",
        "    SELECT Director, Avg_Rating, Movie_Count\n",
        "    FROM director_ratings\n",
        "    WHERE Director LIKE '%Nolan%'\n",
        "    \"\"\"\n",
        ").show()"
      ],
      "metadata": {
        "colab": {
          "base_uri": "https://localhost:8080/"
        },
        "id": "tGRCq47bM5ao",
        "outputId": "b2ad3126-7f44-4a7c-be0a-90a832f13575"
      },
      "execution_count": 24,
      "outputs": [
        {
          "output_type": "stream",
          "name": "stdout",
          "text": [
            "+-----------------+-----------------+-----------+\n",
            "|         Director|       Avg_Rating|Movie_Count|\n",
            "+-----------------+-----------------+-----------+\n",
            "|Christopher Nolan|8.462499999999999|          8|\n",
            "+-----------------+-----------------+-----------+\n",
            "\n"
          ]
        }
      ]
    },
    {
      "cell_type": "code",
      "source": [
        "# window function for ranking movies by revenue\n",
        "\n",
        "from pyspark.sql.window import Window\n",
        "from pyspark.sql.functions import rank, col, regexp_replace\n",
        "\n",
        "# Remove commas from revenue and convert to integer\n",
        "df_clean = df.withColumn(\"Gross\", regexp_replace(col(\"Gross\"), \",\", \"\").cast(\"int\"))\n",
        "\n",
        "window_spec = Window.orderBy(df_clean[\"Gross\"].desc())\n",
        "\n",
        "df_ranked = df_clean.withColumn(\"Rank\", rank().over(window_spec))\n",
        "df_ranked.show(5)"
      ],
      "metadata": {
        "colab": {
          "base_uri": "https://localhost:8080/"
        },
        "id": "eJYx04f6M-Yi",
        "outputId": "c9a05b72-0987-43ed-a16d-6dfd6da19ccf"
      },
      "execution_count": 27,
      "outputs": [
        {
          "output_type": "stream",
          "name": "stdout",
          "text": [
            "+--------------------+--------------------+-------------+-----------+-------+--------------------+-----------+--------------------+----------+-------------+-----------------+-----------------+----------------+------------------+-----------+---------+----+\n",
            "|         Poster_Link|        Series_Title|Released_Year|Certificate|Runtime|               Genre|IMDB_Rating|            Overview|Meta_score|     Director|            Star1|            Star2|           Star3|             Star4|No_of_Votes|    Gross|Rank|\n",
            "+--------------------+--------------------+-------------+-----------+-------+--------------------+-----------+--------------------+----------+-------------+-----------------+-----------------+----------------+------------------+-----------+---------+----+\n",
            "|https://m.media-a...|Star Wars: Episod...|         2015|          U|138 min|Action, Adventure...|        7.9|As a new threat t...|        80|  J.J. Abrams|     Daisy Ridley|      John Boyega|     Oscar Isaac|  Domhnall Gleeson|     860823|936662225|   1|\n",
            "|https://m.media-a...|   Avengers: Endgame|         2019|         UA|181 min|Action, Adventure...|        8.4|After the devasta...|        78|Anthony Russo|        Joe Russo|Robert Downey Jr.|     Chris Evans|      Mark Ruffalo|     809955|858373000|   2|\n",
            "|https://m.media-a...|              Avatar|         2009|         UA|162 min|Action, Adventure...|        7.8|A paraplegic Mari...|        83|James Cameron|  Sam Worthington|      Zoe Saldana|Sigourney Weaver|Michelle Rodriguez|    1118998|760507625|   3|\n",
            "|https://m.media-a...|Avengers: Infinit...|         2018|         UA|149 min|Action, Adventure...|        8.4|The Avengers and ...|        68|Anthony Russo|        Joe Russo|Robert Downey Jr.| Chris Hemsworth|      Mark Ruffalo|     834477|678815482|   4|\n",
            "|https://m.media-a...|             Titanic|         1997|         UA|194 min|      Drama, Romance|        7.8|A seventeen-year-...|        75|James Cameron|Leonardo DiCaprio|     Kate Winslet|      Billy Zane|       Kathy Bates|    1046089|659325379|   5|\n",
            "+--------------------+--------------------+-------------+-----------+-------+--------------------+-----------+--------------------+----------+-------------+-----------------+-----------------+----------------+------------------+-----------+---------+----+\n",
            "only showing top 5 rows\n",
            "\n"
          ]
        }
      ]
    }
  ]
}