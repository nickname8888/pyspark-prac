{
  "nbformat": 4,
  "nbformat_minor": 0,
  "metadata": {
    "colab": {
      "provenance": [],
      "authorship_tag": "ABX9TyNhZoj3auixXVL1XoYgiG1m",
      "include_colab_link": true
    },
    "kernelspec": {
      "name": "python3",
      "display_name": "Python 3"
    },
    "language_info": {
      "name": "python"
    }
  },
  "cells": [
    {
      "cell_type": "markdown",
      "metadata": {
        "id": "view-in-github",
        "colab_type": "text"
      },
      "source": [
        "<a href=\"https://colab.research.google.com/github/nickname8888/pyspark-prac/blob/main/pima_diabetes.ipynb\" target=\"_parent\"><img src=\"https://colab.research.google.com/assets/colab-badge.svg\" alt=\"Open In Colab\"/></a>"
      ]
    },
    {
      "cell_type": "code",
      "execution_count": 1,
      "metadata": {
        "id": "eD68KktOusjd"
      },
      "outputs": [],
      "source": [
        "import pyspark\n",
        "from pyspark.sql import SparkSession"
      ]
    },
    {
      "cell_type": "code",
      "source": [
        "spark = SparkSession.builder.appName(\"diabetes-eda\").getOrCreate()\n",
        "spark"
      ],
      "metadata": {
        "colab": {
          "base_uri": "https://localhost:8080/",
          "height": 219
        },
        "id": "zRgZP_asvHj9",
        "outputId": "e16f5741-637f-4b0e-eb4e-9a4fd9235bbd"
      },
      "execution_count": 2,
      "outputs": [
        {
          "output_type": "execute_result",
          "data": {
            "text/plain": [
              "<pyspark.sql.session.SparkSession at 0x7dd148146b50>"
            ],
            "text/html": [
              "\n",
              "            <div>\n",
              "                <p><b>SparkSession - in-memory</b></p>\n",
              "                \n",
              "        <div>\n",
              "            <p><b>SparkContext</b></p>\n",
              "\n",
              "            <p><a href=\"http://0ef20fdd409c:4040\">Spark UI</a></p>\n",
              "\n",
              "            <dl>\n",
              "              <dt>Version</dt>\n",
              "                <dd><code>v3.5.5</code></dd>\n",
              "              <dt>Master</dt>\n",
              "                <dd><code>local[*]</code></dd>\n",
              "              <dt>AppName</dt>\n",
              "                <dd><code>diabetes-eda</code></dd>\n",
              "            </dl>\n",
              "        </div>\n",
              "        \n",
              "            </div>\n",
              "        "
            ]
          },
          "metadata": {},
          "execution_count": 2
        }
      ]
    },
    {
      "cell_type": "code",
      "source": [
        "df_spark = spark.read.csv(\"diabetes.csv\", header=True, inferSchema=True)\n",
        "df_spark"
      ],
      "metadata": {
        "colab": {
          "base_uri": "https://localhost:8080/"
        },
        "id": "tgqDUk9bvW-L",
        "outputId": "85c0af02-669d-4ebc-e76b-eb57b9b4983b"
      },
      "execution_count": 3,
      "outputs": [
        {
          "output_type": "execute_result",
          "data": {
            "text/plain": [
              "DataFrame[Pregnancies: int, Glucose: int, BloodPressure: int, SkinThickness: int, Insulin: int, BMI: double, DiabetesPedigreeFunction: double, Age: int, Outcome: int]"
            ]
          },
          "metadata": {},
          "execution_count": 3
        }
      ]
    },
    {
      "cell_type": "code",
      "source": [
        "df_spark.show(5)"
      ],
      "metadata": {
        "colab": {
          "base_uri": "https://localhost:8080/"
        },
        "id": "adR_jttXvpQH",
        "outputId": "fbc5b29a-1554-4f05-875d-be1c2bfd18a4"
      },
      "execution_count": 4,
      "outputs": [
        {
          "output_type": "stream",
          "name": "stdout",
          "text": [
            "+-----------+-------+-------------+-------------+-------+----+------------------------+---+-------+\n",
            "|Pregnancies|Glucose|BloodPressure|SkinThickness|Insulin| BMI|DiabetesPedigreeFunction|Age|Outcome|\n",
            "+-----------+-------+-------------+-------------+-------+----+------------------------+---+-------+\n",
            "|          6|    148|           72|           35|      0|33.6|                   0.627| 50|      1|\n",
            "|          1|     85|           66|           29|      0|26.6|                   0.351| 31|      0|\n",
            "|          8|    183|           64|            0|      0|23.3|                   0.672| 32|      1|\n",
            "|          1|     89|           66|           23|     94|28.1|                   0.167| 21|      0|\n",
            "|          0|    137|           40|           35|    168|43.1|                   2.288| 33|      1|\n",
            "+-----------+-------+-------------+-------------+-------+----+------------------------+---+-------+\n",
            "only showing top 5 rows\n",
            "\n"
          ]
        }
      ]
    },
    {
      "cell_type": "code",
      "source": [
        "df_spark.printSchema()"
      ],
      "metadata": {
        "colab": {
          "base_uri": "https://localhost:8080/"
        },
        "id": "3-tyecrdvwXF",
        "outputId": "e88ef4ab-e847-40b6-ad93-45adf8883bd5"
      },
      "execution_count": 5,
      "outputs": [
        {
          "output_type": "stream",
          "name": "stdout",
          "text": [
            "root\n",
            " |-- Pregnancies: integer (nullable = true)\n",
            " |-- Glucose: integer (nullable = true)\n",
            " |-- BloodPressure: integer (nullable = true)\n",
            " |-- SkinThickness: integer (nullable = true)\n",
            " |-- Insulin: integer (nullable = true)\n",
            " |-- BMI: double (nullable = true)\n",
            " |-- DiabetesPedigreeFunction: double (nullable = true)\n",
            " |-- Age: integer (nullable = true)\n",
            " |-- Outcome: integer (nullable = true)\n",
            "\n"
          ]
        }
      ]
    },
    {
      "cell_type": "code",
      "source": [
        "from pyspark.sql.functions import col\n",
        "\n",
        "df_spark.filter(col(\"Glucose\") > 120).show(10)"
      ],
      "metadata": {
        "colab": {
          "base_uri": "https://localhost:8080/"
        },
        "id": "WLTjN5d5vzIM",
        "outputId": "5712df21-fc2c-4ec1-e4db-85ea0f0445c8"
      },
      "execution_count": 8,
      "outputs": [
        {
          "output_type": "stream",
          "name": "stdout",
          "text": [
            "+-----------+-------+-------------+-------------+-------+----+------------------------+---+-------+\n",
            "|Pregnancies|Glucose|BloodPressure|SkinThickness|Insulin| BMI|DiabetesPedigreeFunction|Age|Outcome|\n",
            "+-----------+-------+-------------+-------------+-------+----+------------------------+---+-------+\n",
            "|          6|    148|           72|           35|      0|33.6|                   0.627| 50|      1|\n",
            "|          8|    183|           64|            0|      0|23.3|                   0.672| 32|      1|\n",
            "|          0|    137|           40|           35|    168|43.1|                   2.288| 33|      1|\n",
            "|          2|    197|           70|           45|    543|30.5|                   0.158| 53|      1|\n",
            "|          8|    125|           96|            0|      0| 0.0|                   0.232| 54|      1|\n",
            "|         10|    168|           74|            0|      0|38.0|                   0.537| 34|      1|\n",
            "|         10|    139|           80|            0|      0|27.1|                   1.441| 57|      0|\n",
            "|          1|    189|           60|           23|    846|30.1|                   0.398| 59|      1|\n",
            "|          5|    166|           72|           19|    175|25.8|                   0.587| 51|      1|\n",
            "|          3|    126|           88|           41|    235|39.3|                   0.704| 27|      0|\n",
            "+-----------+-------+-------------+-------------+-------+----+------------------------+---+-------+\n",
            "only showing top 10 rows\n",
            "\n"
          ]
        }
      ]
    },
    {
      "cell_type": "code",
      "source": [
        "df_spark.select(\"Outcome\").distinct().show()"
      ],
      "metadata": {
        "colab": {
          "base_uri": "https://localhost:8080/"
        },
        "id": "843xEZMSxjFM",
        "outputId": "c45bb0c6-2ea1-43f3-b74f-3591c2966c15"
      },
      "execution_count": 18,
      "outputs": [
        {
          "output_type": "stream",
          "name": "stdout",
          "text": [
            "+-------+\n",
            "|Outcome|\n",
            "+-------+\n",
            "|      1|\n",
            "|      0|\n",
            "+-------+\n",
            "\n"
          ]
        }
      ]
    },
    {
      "cell_type": "code",
      "source": [
        "from pyspark.sql import functions as f\n",
        "\n",
        "df_spark.select(f.mean(\"Glucose\")).show()"
      ],
      "metadata": {
        "colab": {
          "base_uri": "https://localhost:8080/"
        },
        "id": "vOoVjc-ex5fH",
        "outputId": "204eeb88-5269-485a-d3e3-4b5420444671"
      },
      "execution_count": 19,
      "outputs": [
        {
          "output_type": "stream",
          "name": "stdout",
          "text": [
            "+------------+\n",
            "|avg(Glucose)|\n",
            "+------------+\n",
            "|120.89453125|\n",
            "+------------+\n",
            "\n"
          ]
        }
      ]
    },
    {
      "cell_type": "code",
      "source": [
        "df_spark.filter(col(\"Glucose\").isNull()).show()"
      ],
      "metadata": {
        "colab": {
          "base_uri": "https://localhost:8080/"
        },
        "id": "kRFs-KDizUml",
        "outputId": "068b0792-a40f-44a8-9ad0-f3cb81f700cb"
      },
      "execution_count": 20,
      "outputs": [
        {
          "output_type": "stream",
          "name": "stdout",
          "text": [
            "+-----------+-------+-------------+-------------+-------+---+------------------------+---+-------+\n",
            "|Pregnancies|Glucose|BloodPressure|SkinThickness|Insulin|BMI|DiabetesPedigreeFunction|Age|Outcome|\n",
            "+-----------+-------+-------------+-------------+-------+---+------------------------+---+-------+\n",
            "+-----------+-------+-------------+-------------+-------+---+------------------------+---+-------+\n",
            "\n"
          ]
        }
      ]
    },
    {
      "cell_type": "code",
      "source": [
        "df_spark = df_spark.withColumn(\"BMI_Adjusted\", col(\"BMI\") * 1.1) # increase the BMI values by 10%"
      ],
      "metadata": {
        "id": "0VYLRjbHzuXk"
      },
      "execution_count": 21,
      "outputs": []
    },
    {
      "cell_type": "code",
      "source": [
        "df_spark.show()"
      ],
      "metadata": {
        "colab": {
          "base_uri": "https://localhost:8080/"
        },
        "id": "KUlmz-8dz7wo",
        "outputId": "9deaa2d5-a5c1-4884-d981-bf40eef674cb"
      },
      "execution_count": 22,
      "outputs": [
        {
          "output_type": "stream",
          "name": "stdout",
          "text": [
            "+-----------+-------+-------------+-------------+-------+----+------------------------+---+-------+------------------+\n",
            "|Pregnancies|Glucose|BloodPressure|SkinThickness|Insulin| BMI|DiabetesPedigreeFunction|Age|Outcome|      BMI_Adjusted|\n",
            "+-----------+-------+-------------+-------------+-------+----+------------------------+---+-------+------------------+\n",
            "|          6|    148|           72|           35|      0|33.6|                   0.627| 50|      1| 36.96000000000001|\n",
            "|          1|     85|           66|           29|      0|26.6|                   0.351| 31|      0|29.260000000000005|\n",
            "|          8|    183|           64|            0|      0|23.3|                   0.672| 32|      1|25.630000000000003|\n",
            "|          1|     89|           66|           23|     94|28.1|                   0.167| 21|      0|30.910000000000004|\n",
            "|          0|    137|           40|           35|    168|43.1|                   2.288| 33|      1|47.410000000000004|\n",
            "|          5|    116|           74|            0|      0|25.6|                   0.201| 30|      0|28.160000000000004|\n",
            "|          3|     78|           50|           32|     88|31.0|                   0.248| 26|      1|              34.1|\n",
            "|         10|    115|            0|            0|      0|35.3|                   0.134| 29|      0|             38.83|\n",
            "|          2|    197|           70|           45|    543|30.5|                   0.158| 53|      1|33.550000000000004|\n",
            "|          8|    125|           96|            0|      0| 0.0|                   0.232| 54|      1|               0.0|\n",
            "|          4|    110|           92|            0|      0|37.6|                   0.191| 30|      0| 41.36000000000001|\n",
            "|         10|    168|           74|            0|      0|38.0|                   0.537| 34|      1|41.800000000000004|\n",
            "|         10|    139|           80|            0|      0|27.1|                   1.441| 57|      0|29.810000000000002|\n",
            "|          1|    189|           60|           23|    846|30.1|                   0.398| 59|      1| 33.11000000000001|\n",
            "|          5|    166|           72|           19|    175|25.8|                   0.587| 51|      1|28.380000000000003|\n",
            "|          7|    100|            0|            0|      0|30.0|                   0.484| 32|      1|              33.0|\n",
            "|          0|    118|           84|           47|    230|45.8|                   0.551| 31|      1|             50.38|\n",
            "|          7|    107|           74|            0|      0|29.6|                   0.254| 31|      1|             32.56|\n",
            "|          1|    103|           30|           38|     83|43.3|                   0.183| 33|      0|             47.63|\n",
            "|          1|    115|           70|           30|     96|34.6|                   0.529| 32|      1|             38.06|\n",
            "+-----------+-------+-------------+-------------+-------+----+------------------------+---+-------+------------------+\n",
            "only showing top 20 rows\n",
            "\n"
          ]
        }
      ]
    },
    {
      "cell_type": "code",
      "source": [
        "# calculate the rate of diabetes for all people vs the rate of diabetes for people over 50\n",
        "\n",
        "total_count = df_spark.count()\n",
        "diabetes_count = df_spark.filter(col(\"Outcome\") == 1).count()\n",
        "\n",
        "rate_of_diabetes = (diabetes_count / total_count) * 100\n",
        "print(\"Average rate of diabetes is \", rate_of_diabetes)"
      ],
      "metadata": {
        "colab": {
          "base_uri": "https://localhost:8080/"
        },
        "id": "XZ9D23ny0Hqh",
        "outputId": "86ce7d04-a3da-4d2c-e757-db627d3457a8"
      },
      "execution_count": 23,
      "outputs": [
        {
          "output_type": "stream",
          "name": "stdout",
          "text": [
            "Rate of diabetes is  34.89583333333333\n"
          ]
        }
      ]
    },
    {
      "cell_type": "code",
      "source": [
        "over_fifty_count = df_spark.filter(col(\"Age\") >= 50).count()\n",
        "over_fifty_diabetes_count = df_spark.filter((col(\"Age\") >= 50) & (col(\"Outcome\") == 1)).count()\n",
        "\n",
        "over_fifty_rate_of_diabetes = (over_fifty_diabetes_count / over_fifty_count) * 100\n",
        "print(\"Average rate of diabetes for people over 50 is \", over_fifty_rate_of_diabetes)"
      ],
      "metadata": {
        "colab": {
          "base_uri": "https://localhost:8080/"
        },
        "id": "AsKeo3jX1CdO",
        "outputId": "a4d0ac47-4a82-490b-8a37-0b3cd0a5456c"
      },
      "execution_count": 25,
      "outputs": [
        {
          "output_type": "stream",
          "name": "stdout",
          "text": [
            "Average rate of diabetes for people over 50 is  48.31460674157304\n"
          ]
        }
      ]
    },
    {
      "cell_type": "code",
      "source": [
        "diff = over_fifty_rate_of_diabetes - rate_of_diabetes\n",
        "print(\"The difference between the two rates is\", diff)"
      ],
      "metadata": {
        "colab": {
          "base_uri": "https://localhost:8080/"
        },
        "id": "lMwH-iAT1urK",
        "outputId": "5967d3f6-091e-4deb-f385-448c094e32cf"
      },
      "execution_count": 28,
      "outputs": [
        {
          "output_type": "stream",
          "name": "stdout",
          "text": [
            "The difference between the two rates is 13.418773408239709\n"
          ]
        }
      ]
    }
  ]
}