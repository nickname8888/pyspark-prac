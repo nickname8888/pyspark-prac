{
  "nbformat": 4,
  "nbformat_minor": 0,
  "metadata": {
    "colab": {
      "provenance": [],
      "authorship_tag": "ABX9TyOAwTGT6nquzz9hK40sQ6PN",
      "include_colab_link": true
    },
    "kernelspec": {
      "name": "python3",
      "display_name": "Python 3"
    },
    "language_info": {
      "name": "python"
    }
  },
  "cells": [
    {
      "cell_type": "markdown",
      "metadata": {
        "id": "view-in-github",
        "colab_type": "text"
      },
      "source": [
        "<a href=\"https://colab.research.google.com/github/nickname8888/pyspark-prac/blob/main/udfs_prac.ipynb\" target=\"_parent\"><img src=\"https://colab.research.google.com/assets/colab-badge.svg\" alt=\"Open In Colab\"/></a>"
      ]
    },
    {
      "cell_type": "code",
      "execution_count": 1,
      "metadata": {
        "colab": {
          "base_uri": "https://localhost:8080/"
        },
        "id": "1o79BMEECRdj",
        "outputId": "cc1b6647-dfe6-4013-80cd-a12470474fd6"
      },
      "outputs": [
        {
          "output_type": "stream",
          "name": "stdout",
          "text": [
            "Requirement already satisfied: pyspark in /usr/local/lib/python3.11/dist-packages (3.5.5)\n",
            "Requirement already satisfied: nltk in /usr/local/lib/python3.11/dist-packages (3.9.1)\n",
            "Requirement already satisfied: py4j==0.10.9.7 in /usr/local/lib/python3.11/dist-packages (from pyspark) (0.10.9.7)\n",
            "Requirement already satisfied: click in /usr/local/lib/python3.11/dist-packages (from nltk) (8.1.8)\n",
            "Requirement already satisfied: joblib in /usr/local/lib/python3.11/dist-packages (from nltk) (1.4.2)\n",
            "Requirement already satisfied: regex>=2021.8.3 in /usr/local/lib/python3.11/dist-packages (from nltk) (2024.11.6)\n",
            "Requirement already satisfied: tqdm in /usr/local/lib/python3.11/dist-packages (from nltk) (4.67.1)\n"
          ]
        }
      ],
      "source": [
        "!pip install pyspark nltk"
      ]
    },
    {
      "cell_type": "code",
      "source": [
        "import pyspark\n",
        "from pyspark.sql import SparkSession\n",
        "from pyspark.sql.functions import col, udf\n",
        "from pyspark.sql.types import StringType\n",
        "import re\n",
        "import nltk\n",
        "from nltk.sentiment import SentimentIntensityAnalyzer"
      ],
      "metadata": {
        "id": "NOvUdp7bCkhx"
      },
      "execution_count": 2,
      "outputs": []
    },
    {
      "cell_type": "code",
      "source": [
        "spark = SparkSession.builder.appName(\"Analyzer\").getOrCreate()"
      ],
      "metadata": {
        "id": "CCczdGoUCqG8"
      },
      "execution_count": 3,
      "outputs": []
    },
    {
      "cell_type": "code",
      "source": [
        "# using the sentiment analysis dataset\n",
        "\n",
        "df = spark.read.csv(\"/content/IMDB Dataset.csv\", header=True, inferSchema=True)"
      ],
      "metadata": {
        "id": "8RAgzitZCzgK"
      },
      "execution_count": 6,
      "outputs": []
    },
    {
      "cell_type": "code",
      "source": [
        "df.show(10)"
      ],
      "metadata": {
        "colab": {
          "base_uri": "https://localhost:8080/"
        },
        "id": "uBN9ayCYDr3Y",
        "outputId": "4546642c-7635-4b55-cd10-329ad402a32f"
      },
      "execution_count": 7,
      "outputs": [
        {
          "output_type": "stream",
          "name": "stdout",
          "text": [
            "+--------------------+--------------------+\n",
            "|              review|           sentiment|\n",
            "+--------------------+--------------------+\n",
            "|One of the other ...|            positive|\n",
            "|\"A wonderful litt...| not only is it w...|\n",
            "|\"I thought this w...| but spirited you...|\n",
            "|Basically there's...|            negative|\n",
            "|\"Petter Mattei's ...| power and succes...|\n",
            "|\"Probably my all-...| but that only ma...|\n",
            "|I sure would like...|            positive|\n",
            "|This show was an ...|            negative|\n",
            "|Encouraged by the...|            negative|\n",
            "|If you like origi...|            positive|\n",
            "+--------------------+--------------------+\n",
            "only showing top 10 rows\n",
            "\n"
          ]
        }
      ]
    },
    {
      "cell_type": "code",
      "source": [
        "df.printSchema()"
      ],
      "metadata": {
        "colab": {
          "base_uri": "https://localhost:8080/"
        },
        "id": "eVnOpOeZDkA6",
        "outputId": "3527ffe8-8366-4f76-e8cb-b4e1e7978131"
      },
      "execution_count": 8,
      "outputs": [
        {
          "output_type": "stream",
          "name": "stdout",
          "text": [
            "root\n",
            " |-- review: string (nullable = true)\n",
            " |-- sentiment: string (nullable = true)\n",
            "\n"
          ]
        }
      ]
    },
    {
      "cell_type": "code",
      "source": [],
      "metadata": {
        "colab": {
          "base_uri": "https://localhost:8080/"
        },
        "id": "hXGupwVMDmC9",
        "outputId": "c8dca9ff-9478-4cd8-d195-d245e2fff91a"
      },
      "execution_count": 13,
      "outputs": [
        {
          "output_type": "stream",
          "name": "stdout",
          "text": [
            "+--------------------+\n",
            "|           sentiment|\n",
            "+--------------------+\n",
            "|            positive|\n",
            "| not only is it w...|\n",
            "| but spirited you...|\n",
            "|            negative|\n",
            "| power and succes...|\n",
            "| but that only ma...|\n",
            "|            positive|\n",
            "|            negative|\n",
            "|            negative|\n",
            "|            positive|\n",
            "|            negative|\n",
            "|            negative|\n",
            "| meaning most of ...|\n",
            "|            negative|\n",
            "|            positive|\n",
            "|            negative|\n",
            "|            positive|\n",
            "|            negative|\n",
            "|            positive|\n",
            "|            negative|\n",
            "+--------------------+\n",
            "only showing top 20 rows\n",
            "\n"
          ]
        }
      ]
    }
  ]
}