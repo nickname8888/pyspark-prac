{
  "nbformat": 4,
  "nbformat_minor": 0,
  "metadata": {
    "colab": {
      "provenance": [],
      "authorship_tag": "ABX9TyMAZGgLw541N1gyXJd/0Eob",
      "include_colab_link": true
    },
    "kernelspec": {
      "name": "python3",
      "display_name": "Python 3"
    },
    "language_info": {
      "name": "python"
    }
  },
  "cells": [
    {
      "cell_type": "markdown",
      "metadata": {
        "id": "view-in-github",
        "colab_type": "text"
      },
      "source": [
        "<a href=\"https://colab.research.google.com/github/nickname8888/pyspark-prac/blob/main/udfs_prac.ipynb\" target=\"_parent\"><img src=\"https://colab.research.google.com/assets/colab-badge.svg\" alt=\"Open In Colab\"/></a>"
      ]
    },
    {
      "cell_type": "code",
      "execution_count": 1,
      "metadata": {
        "colab": {
          "base_uri": "https://localhost:8080/"
        },
        "id": "1o79BMEECRdj",
        "outputId": "cc1b6647-dfe6-4013-80cd-a12470474fd6"
      },
      "outputs": [
        {
          "output_type": "stream",
          "name": "stdout",
          "text": [
            "Requirement already satisfied: pyspark in /usr/local/lib/python3.11/dist-packages (3.5.5)\n",
            "Requirement already satisfied: nltk in /usr/local/lib/python3.11/dist-packages (3.9.1)\n",
            "Requirement already satisfied: py4j==0.10.9.7 in /usr/local/lib/python3.11/dist-packages (from pyspark) (0.10.9.7)\n",
            "Requirement already satisfied: click in /usr/local/lib/python3.11/dist-packages (from nltk) (8.1.8)\n",
            "Requirement already satisfied: joblib in /usr/local/lib/python3.11/dist-packages (from nltk) (1.4.2)\n",
            "Requirement already satisfied: regex>=2021.8.3 in /usr/local/lib/python3.11/dist-packages (from nltk) (2024.11.6)\n",
            "Requirement already satisfied: tqdm in /usr/local/lib/python3.11/dist-packages (from nltk) (4.67.1)\n"
          ]
        }
      ],
      "source": [
        "!pip install pyspark nltk"
      ]
    },
    {
      "cell_type": "code",
      "source": [
        "import pyspark\n",
        "from pyspark.sql import SparkSession\n",
        "from pyspark.sql.functions import col, udf\n",
        "from pyspark.sql.types import StringType\n",
        "import re\n",
        "import nltk\n",
        "from nltk.sentiment import SentimentIntensityAnalyzer"
      ],
      "metadata": {
        "id": "NOvUdp7bCkhx"
      },
      "execution_count": 2,
      "outputs": []
    },
    {
      "cell_type": "code",
      "source": [
        "spark = SparkSession.builder.appName(\"Analyzer\").getOrCreate()"
      ],
      "metadata": {
        "id": "CCczdGoUCqG8"
      },
      "execution_count": 3,
      "outputs": []
    },
    {
      "cell_type": "code",
      "source": [
        "# using the sentiment analysis dataset\n",
        "\n",
        "df = spark.read.csv(\"/content/IMDB Dataset.csv\", header=True, inferSchema=True)"
      ],
      "metadata": {
        "id": "8RAgzitZCzgK"
      },
      "execution_count": 72,
      "outputs": []
    },
    {
      "cell_type": "code",
      "source": [
        "df.show(10)"
      ],
      "metadata": {
        "colab": {
          "base_uri": "https://localhost:8080/"
        },
        "id": "uBN9ayCYDr3Y",
        "outputId": "27a412df-8d7a-4b1b-c781-3bddd3283dc3"
      },
      "execution_count": 73,
      "outputs": [
        {
          "output_type": "stream",
          "name": "stdout",
          "text": [
            "+--------------------+--------------------+\n",
            "|              review|           sentiment|\n",
            "+--------------------+--------------------+\n",
            "|One of the other ...|            positive|\n",
            "|\"A wonderful litt...| not only is it w...|\n",
            "|\"I thought this w...| but spirited you...|\n",
            "|Basically there's...|            negative|\n",
            "|\"Petter Mattei's ...| power and succes...|\n",
            "|\"Probably my all-...| but that only ma...|\n",
            "|I sure would like...|            positive|\n",
            "|This show was an ...|            negative|\n",
            "|Encouraged by the...|            negative|\n",
            "|If you like origi...|            positive|\n",
            "+--------------------+--------------------+\n",
            "only showing top 10 rows\n",
            "\n"
          ]
        }
      ]
    },
    {
      "cell_type": "code",
      "source": [
        "df.printSchema()"
      ],
      "metadata": {
        "colab": {
          "base_uri": "https://localhost:8080/"
        },
        "id": "eVnOpOeZDkA6",
        "outputId": "3cdee17c-89c1-4b3d-f60f-2d59f91ced62"
      },
      "execution_count": 74,
      "outputs": [
        {
          "output_type": "stream",
          "name": "stdout",
          "text": [
            "root\n",
            " |-- review: string (nullable = true)\n",
            " |-- sentiment: string (nullable = true)\n",
            "\n"
          ]
        }
      ]
    },
    {
      "cell_type": "code",
      "source": [
        "from pyspark.sql.functions import col, sum\n",
        "\n",
        "def check_nulls(df):\n",
        "  null_values = df.select([sum(col(c).isNull().cast(\"int\")).alias(c) for c in df.columns])\n",
        "  null_values.show()"
      ],
      "metadata": {
        "id": "7er7W8q0FhNU"
      },
      "execution_count": 75,
      "outputs": []
    },
    {
      "cell_type": "code",
      "source": [
        "check_nulls(df)"
      ],
      "metadata": {
        "colab": {
          "base_uri": "https://localhost:8080/"
        },
        "id": "QZ_QeZyhFywg",
        "outputId": "89f08580-9022-4dab-9e04-4aea74a9bf58"
      },
      "execution_count": 25,
      "outputs": [
        {
          "output_type": "stream",
          "name": "stdout",
          "text": [
            "+------+---------+\n",
            "|review|sentiment|\n",
            "+------+---------+\n",
            "|     0|        7|\n",
            "+------+---------+\n",
            "\n"
          ]
        }
      ]
    },
    {
      "cell_type": "code",
      "source": [
        "df.filter(col(\"sentiment\").isNull()).show()"
      ],
      "metadata": {
        "colab": {
          "base_uri": "https://localhost:8080/"
        },
        "id": "aSUDVfpoGSrB",
        "outputId": "c49285c2-3113-4b9d-fc9e-45b96874124f"
      },
      "execution_count": 76,
      "outputs": [
        {
          "output_type": "stream",
          "name": "stdout",
          "text": [
            "+--------------------+---------+\n",
            "|              review|sentiment|\n",
            "+--------------------+---------+\n",
            "|\".... may seem fa...|     NULL|\n",
            "|\"And that comes f...|     NULL|\n",
            "|\"Sorry everyone,,...|     NULL|\n",
            "|\"With a special t...|     NULL|\n",
            "|\"I've seen a lot ...|     NULL|\n",
            "|\"I happened to se...|     NULL|\n",
            "|\"seriously what t...|     NULL|\n",
            "+--------------------+---------+\n",
            "\n"
          ]
        }
      ]
    },
    {
      "cell_type": "code",
      "source": [
        "df_clean = df.dropna()\n",
        "df_clean.show(5)"
      ],
      "metadata": {
        "colab": {
          "base_uri": "https://localhost:8080/"
        },
        "id": "_TEeXixiGjYn",
        "outputId": "ddd7b4d8-7c87-4530-d16b-4a5c1a8d074b"
      },
      "execution_count": 77,
      "outputs": [
        {
          "output_type": "stream",
          "name": "stdout",
          "text": [
            "+--------------------+--------------------+\n",
            "|              review|           sentiment|\n",
            "+--------------------+--------------------+\n",
            "|One of the other ...|            positive|\n",
            "|\"A wonderful litt...| not only is it w...|\n",
            "|\"I thought this w...| but spirited you...|\n",
            "|Basically there's...|            negative|\n",
            "|\"Petter Mattei's ...| power and succes...|\n",
            "+--------------------+--------------------+\n",
            "only showing top 5 rows\n",
            "\n"
          ]
        }
      ]
    },
    {
      "cell_type": "code",
      "source": [
        "def clean_text(text):\n",
        "    text = text.lower()  # lowercase\n",
        "    text = re.sub(r'[^a-zA-Z\\s]', '', text)  # remove special characters\n",
        "    text = text.strip()  # remove extra spaces\n",
        "    return text\n",
        "\n",
        "clean_text_udf = udf(clean_text, StringType())"
      ],
      "metadata": {
        "id": "g7wzxzYiGpiK"
      },
      "execution_count": 78,
      "outputs": []
    },
    {
      "cell_type": "code",
      "source": [
        "df = df.withColumn(\"cleaned_review\", clean_text_udf(col(\"review\")))\n",
        "df.show(5)"
      ],
      "metadata": {
        "colab": {
          "base_uri": "https://localhost:8080/"
        },
        "id": "GoS3AM4CIE8E",
        "outputId": "21ddb456-be23-4eba-e420-3463a7252893"
      },
      "execution_count": 79,
      "outputs": [
        {
          "output_type": "stream",
          "name": "stdout",
          "text": [
            "+--------------------+--------------------+--------------------+\n",
            "|              review|           sentiment|      cleaned_review|\n",
            "+--------------------+--------------------+--------------------+\n",
            "|One of the other ...|            positive|one of the other ...|\n",
            "|\"A wonderful litt...| not only is it w...|a wonderful littl...|\n",
            "|\"I thought this w...| but spirited you...|i thought this wa...|\n",
            "|Basically there's...|            negative|basically theres ...|\n",
            "|\"Petter Mattei's ...| power and succes...|petter matteis lo...|\n",
            "+--------------------+--------------------+--------------------+\n",
            "only showing top 5 rows\n",
            "\n"
          ]
        }
      ]
    },
    {
      "cell_type": "code",
      "source": [
        "# count the number of occurences of sentiments: positive, negative, something else\n",
        "\n",
        "positive_count = df.filter(col(\"sentiment\") == \"positive\").count()\n",
        "negative_count = df.filter(col(\"sentiment\") == \"negative\").count()\n",
        "other_count = df.filter((col(\"sentiment\") != \"positive\") & (col(\"sentiment\") != \"negative\")).count()\n",
        "\n",
        "print(\"Positive count:\", positive_count)\n",
        "print(\"Negative count:\", negative_count)\n",
        "print(\"Other count:\", other_count)"
      ],
      "metadata": {
        "colab": {
          "base_uri": "https://localhost:8080/"
        },
        "id": "pkpFSl9IIrXn",
        "outputId": "90256e7d-bf1e-4fe7-b9f3-cccc5931aeee"
      },
      "execution_count": 80,
      "outputs": [
        {
          "output_type": "stream",
          "name": "stdout",
          "text": [
            "Positive count: 14897\n",
            "Negative count: 13792\n",
            "Other count: 21304\n"
          ]
        }
      ]
    },
    {
      "cell_type": "code",
      "source": [
        "# dropping all other counts\n",
        "\n",
        "df = df.filter(col(\"sentiment\").isin([\"positive\", \"negative\"]))\n",
        "df.show(5)"
      ],
      "metadata": {
        "colab": {
          "base_uri": "https://localhost:8080/"
        },
        "id": "Yngq_xsbJjUY",
        "outputId": "da1aa928-28af-477b-bbe4-b054e038f0c5"
      },
      "execution_count": 81,
      "outputs": [
        {
          "output_type": "stream",
          "name": "stdout",
          "text": [
            "+--------------------+---------+--------------------+\n",
            "|              review|sentiment|      cleaned_review|\n",
            "+--------------------+---------+--------------------+\n",
            "|One of the other ...| positive|one of the other ...|\n",
            "|Basically there's...| negative|basically theres ...|\n",
            "|I sure would like...| positive|i sure would like...|\n",
            "|This show was an ...| negative|this show was an ...|\n",
            "|Encouraged by the...| negative|encouraged by the...|\n",
            "+--------------------+---------+--------------------+\n",
            "only showing top 5 rows\n",
            "\n"
          ]
        }
      ]
    },
    {
      "cell_type": "code",
      "source": [
        "nltk.download(\"vader_lexicon\")\n",
        "sia = SentimentIntensityAnalyzer()"
      ],
      "metadata": {
        "colab": {
          "base_uri": "https://localhost:8080/"
        },
        "id": "0m67gbR6KA6U",
        "outputId": "bba83bf6-60bb-440f-bb2b-781671058cad"
      },
      "execution_count": 82,
      "outputs": [
        {
          "output_type": "stream",
          "name": "stderr",
          "text": [
            "[nltk_data] Downloading package vader_lexicon to /root/nltk_data...\n",
            "[nltk_data]   Package vader_lexicon is already up-to-date!\n"
          ]
        }
      ]
    },
    {
      "cell_type": "code",
      "source": [
        "# sentiment score function\n",
        "\n",
        "def get_sentiment(text):\n",
        "    score = sia.polarity_scores(text)[\"compound\"]\n",
        "    if score >= 0.05:\n",
        "        return \"positive\"\n",
        "    elif score <= -0.05:\n",
        "        return \"negative\"\n",
        "    else:\n",
        "        return \"neutral\""
      ],
      "metadata": {
        "id": "9qWyjKi7KOl5"
      },
      "execution_count": 83,
      "outputs": []
    },
    {
      "cell_type": "code",
      "source": [
        "# convert to udf\n",
        "\n",
        "get_sentiment_udf = udf(get_sentiment, StringType())\n",
        "\n",
        "df = df.withColumn(\"predicted_sentiment\", get_sentiment_udf(col(\"cleaned_review\")))\n",
        "\n",
        "df.select(\"review\", \"sentiment\", \"predicted_sentiment\").show(1, truncate=False)"
      ],
      "metadata": {
        "colab": {
          "base_uri": "https://localhost:8080/"
        },
        "id": "FCAMzVQ8KdrK",
        "outputId": "18168f62-4aa9-4ad6-b3f7-e4515823af0c"
      },
      "execution_count": 84,
      "outputs": [
        {
          "output_type": "stream",
          "name": "stdout",
          "text": [
            "+---------------------------------------------------------------------------------------------------------------------------------------------------------------------------------------------------------------------------------------------------------------------------------------------------------------------------------------------------------------------------------------------------------------------------------------------------------------------------------------------------------------------------------------------------------------------------------------------------------------------------------------------------------------------------------------------------------------------------------------------------------------------------------------------------------------------------------------------------------------------------------------------------------------------------------------------------------------------------------------------------------------------------------------------------------------------------------------------------------------------------------------------------------------------------------------------------------------------------------------------------------------------------------------------------------------------------------------------------------------------------------------------------------------------------------------------------------------------------------------------------------------------------------------------------------------------------------------------------------------------------------------------------------------------------------------------------------------------------------------------------------------------------------------------------------------------------------+---------+-------------------+\n",
            "|review                                                                                                                                                                                                                                                                                                                                                                                                                                                                                                                                                                                                                                                                                                                                                                                                                                                                                                                                                                                                                                                                                                                                                                                                                                                                                                                                                                                                                                                                                                                                                                                                                                                                                                                                                                                                                           |sentiment|predicted_sentiment|\n",
            "+---------------------------------------------------------------------------------------------------------------------------------------------------------------------------------------------------------------------------------------------------------------------------------------------------------------------------------------------------------------------------------------------------------------------------------------------------------------------------------------------------------------------------------------------------------------------------------------------------------------------------------------------------------------------------------------------------------------------------------------------------------------------------------------------------------------------------------------------------------------------------------------------------------------------------------------------------------------------------------------------------------------------------------------------------------------------------------------------------------------------------------------------------------------------------------------------------------------------------------------------------------------------------------------------------------------------------------------------------------------------------------------------------------------------------------------------------------------------------------------------------------------------------------------------------------------------------------------------------------------------------------------------------------------------------------------------------------------------------------------------------------------------------------------------------------------------------------+---------+-------------------+\n",
            "|One of the other reviewers has mentioned that after watching just 1 Oz episode you'll be hooked. They are right, as this is exactly what happened with me.<br /><br />The first thing that struck me about Oz was its brutality and unflinching scenes of violence, which set in right from the word GO. Trust me, this is not a show for the faint hearted or timid. This show pulls no punches with regards to drugs, sex or violence. Its is hardcore, in the classic use of the word.<br /><br />It is called OZ as that is the nickname given to the Oswald Maximum Security State Penitentary. It focuses mainly on Emerald City, an experimental section of the prison where all the cells have glass fronts and face inwards, so privacy is not high on the agenda. Em City is home to many..Aryans, Muslims, gangstas, Latinos, Christians, Italians, Irish and more....so scuffles, death stares, dodgy dealings and shady agreements are never far away.<br /><br />I would say the main appeal of the show is due to the fact that it goes where other shows wouldn't dare. Forget pretty pictures painted for mainstream audiences, forget charm, forget romance...OZ doesn't mess around. The first episode I ever saw struck me as so nasty it was surreal, I couldn't say I was ready for it, but as I watched more, I developed a taste for Oz, and got accustomed to the high levels of graphic violence. Not just violence, but injustice (crooked guards who'll be sold out for a nickel, inmates who'll kill on order and get away with it, well mannered, middle class inmates being turned into prison bitches due to their lack of street skills or prison experience) Watching Oz, you may become comfortable with what is uncomfortable viewing....thats if you can get in touch with your darker side.|positive |negative           |\n",
            "+---------------------------------------------------------------------------------------------------------------------------------------------------------------------------------------------------------------------------------------------------------------------------------------------------------------------------------------------------------------------------------------------------------------------------------------------------------------------------------------------------------------------------------------------------------------------------------------------------------------------------------------------------------------------------------------------------------------------------------------------------------------------------------------------------------------------------------------------------------------------------------------------------------------------------------------------------------------------------------------------------------------------------------------------------------------------------------------------------------------------------------------------------------------------------------------------------------------------------------------------------------------------------------------------------------------------------------------------------------------------------------------------------------------------------------------------------------------------------------------------------------------------------------------------------------------------------------------------------------------------------------------------------------------------------------------------------------------------------------------------------------------------------------------------------------------------------------+---------+-------------------+\n",
            "only showing top 1 row\n",
            "\n"
          ]
        }
      ]
    },
    {
      "cell_type": "code",
      "source": [
        "df.printSchema()"
      ],
      "metadata": {
        "colab": {
          "base_uri": "https://localhost:8080/"
        },
        "id": "sWlB9lh-K4Tb",
        "outputId": "4e69cead-1ece-4a4b-ebf5-8cde47b2cf94"
      },
      "execution_count": 85,
      "outputs": [
        {
          "output_type": "stream",
          "name": "stdout",
          "text": [
            "root\n",
            " |-- review: string (nullable = true)\n",
            " |-- sentiment: string (nullable = true)\n",
            " |-- cleaned_review: string (nullable = true)\n",
            " |-- predicted_sentiment: string (nullable = true)\n",
            "\n"
          ]
        }
      ]
    },
    {
      "cell_type": "code",
      "source": [
        "df.show(5)"
      ],
      "metadata": {
        "colab": {
          "base_uri": "https://localhost:8080/"
        },
        "id": "fPiXkZWGMCK1",
        "outputId": "d5760964-da77-470a-d385-3ec8c3ab58ce"
      },
      "execution_count": 86,
      "outputs": [
        {
          "output_type": "stream",
          "name": "stdout",
          "text": [
            "+--------------------+---------+--------------------+-------------------+\n",
            "|              review|sentiment|      cleaned_review|predicted_sentiment|\n",
            "+--------------------+---------+--------------------+-------------------+\n",
            "|One of the other ...| positive|one of the other ...|           negative|\n",
            "|Basically there's...| negative|basically theres ...|           negative|\n",
            "|I sure would like...| positive|i sure would like...|           positive|\n",
            "|This show was an ...| negative|this show was an ...|           positive|\n",
            "|Encouraged by the...| negative|encouraged by the...|           positive|\n",
            "+--------------------+---------+--------------------+-------------------+\n",
            "only showing top 5 rows\n",
            "\n"
          ]
        }
      ]
    },
    {
      "cell_type": "code",
      "source": [
        "# replacing string values for numeric values\n",
        "\n",
        "df = df.replace({\"positive\":\"1\", \"negative\":\"0\"}, subset=[\"sentiment\"]).withColumn(\"sentiment\", col(\"sentiment\").cast(\"int\"))\n",
        "df = df.replace({\"positive\":\"1\", \"negative\":\"0\"}, subset=[\"predicted_sentiment\"]).withColumn(\"predicted_sentiment\", col(\"predicted_sentiment\").cast(\"int\"))"
      ],
      "metadata": {
        "id": "dEEZVPYNK8f6"
      },
      "execution_count": 87,
      "outputs": []
    },
    {
      "cell_type": "markdown",
      "source": [],
      "metadata": {
        "id": "cM3XhNLrNTXK"
      }
    },
    {
      "cell_type": "code",
      "source": [
        "df.show(5)"
      ],
      "metadata": {
        "colab": {
          "base_uri": "https://localhost:8080/"
        },
        "id": "TOhLzhcTLfob",
        "outputId": "8432af2c-0cb2-402a-e3fe-bf9a89b578fe"
      },
      "execution_count": 88,
      "outputs": [
        {
          "output_type": "stream",
          "name": "stdout",
          "text": [
            "+--------------------+---------+--------------------+-------------------+\n",
            "|              review|sentiment|      cleaned_review|predicted_sentiment|\n",
            "+--------------------+---------+--------------------+-------------------+\n",
            "|One of the other ...|        1|one of the other ...|                  0|\n",
            "|Basically there's...|        0|basically theres ...|                  0|\n",
            "|I sure would like...|        1|i sure would like...|                  1|\n",
            "|This show was an ...|        0|this show was an ...|                  1|\n",
            "|Encouraged by the...|        0|encouraged by the...|                  1|\n",
            "+--------------------+---------+--------------------+-------------------+\n",
            "only showing top 5 rows\n",
            "\n"
          ]
        }
      ]
    },
    {
      "cell_type": "code",
      "source": [
        "# getting vader model accuracy\n",
        "\n",
        "from pyspark.sql.functions import col, avg\n",
        "\n",
        "accuracy = df.withColumn(\"correct\", (col(\"sentiment\") == col(\"predicted_sentiment\")).cast(\"int\")) \\\n",
        "  .select(avg(\"correct\")).collect()[0][0]\n"
      ],
      "metadata": {
        "colab": {
          "base_uri": "https://localhost:8080/"
        },
        "id": "7UvKpYSfMdi2",
        "outputId": "739996c6-f0c0-4590-a348-9d41138cc158"
      },
      "execution_count": 89,
      "outputs": [
        {
          "output_type": "stream",
          "name": "stdout",
          "text": [
            "Vader Model Accuracy: 0.7130214026303727\n"
          ]
        }
      ]
    },
    {
      "cell_type": "code",
      "source": [
        "print(\"Vader Model Accuracy:\", accuracy * 100)"
      ],
      "metadata": {
        "colab": {
          "base_uri": "https://localhost:8080/"
        },
        "id": "5qC9hARJOqW7",
        "outputId": "e92375a8-efff-4383-c99c-08da4800a63e"
      },
      "execution_count": 90,
      "outputs": [
        {
          "output_type": "stream",
          "name": "stdout",
          "text": [
            "Vader Model Accuracy: 71.30214026303727\n"
          ]
        }
      ]
    }
  ]
}