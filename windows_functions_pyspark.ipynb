{
  "nbformat": 4,
  "nbformat_minor": 0,
  "metadata": {
    "colab": {
      "provenance": [],
      "authorship_tag": "ABX9TyMBNIWCwRM3S2rIxcS3eOc2",
      "include_colab_link": true
    },
    "kernelspec": {
      "name": "python3",
      "display_name": "Python 3"
    },
    "language_info": {
      "name": "python"
    }
  },
  "cells": [
    {
      "cell_type": "markdown",
      "metadata": {
        "id": "view-in-github",
        "colab_type": "text"
      },
      "source": [
        "<a href=\"https://colab.research.google.com/github/nickname8888/pyspark-prac/blob/main/windows_functions_pyspark.ipynb\" target=\"_parent\"><img src=\"https://colab.research.google.com/assets/colab-badge.svg\" alt=\"Open In Colab\"/></a>"
      ]
    },
    {
      "cell_type": "code",
      "execution_count": 1,
      "metadata": {
        "id": "qRcCLJkYYYwc"
      },
      "outputs": [],
      "source": [
        "from pyspark.sql import SparkSession\n",
        "spark = SparkSession.builder.appName(\"Retail_EDA\").getOrCreate()"
      ]
    },
    {
      "cell_type": "code",
      "source": [
        "# dataset link: https://www.kaggle.com/datasets/mashlyn/online-retail-ii-uci\n",
        "\n",
        "df = spark.read.csv(\"online_retail_II.csv\", header=True, inferSchema=True)\n",
        "df.show(5)\n",
        "df.printSchema()\n",
        "print(f\"Total records: {df.count()}\")"
      ],
      "metadata": {
        "colab": {
          "base_uri": "https://localhost:8080/"
        },
        "id": "JhggqSGaZDsr",
        "outputId": "6f1e8bde-7984-477c-b6ac-c98450fc116d"
      },
      "execution_count": 3,
      "outputs": [
        {
          "output_type": "stream",
          "name": "stdout",
          "text": [
            "+-------+---------+--------------------+--------+-------------------+-----+-----------+--------------+\n",
            "|Invoice|StockCode|         Description|Quantity|        InvoiceDate|Price|Customer ID|       Country|\n",
            "+-------+---------+--------------------+--------+-------------------+-----+-----------+--------------+\n",
            "| 489434|    85048|15CM CHRISTMAS GL...|      12|2009-12-01 07:45:00| 6.95|    13085.0|United Kingdom|\n",
            "| 489434|   79323P|  PINK CHERRY LIGHTS|      12|2009-12-01 07:45:00| 6.75|    13085.0|United Kingdom|\n",
            "| 489434|   79323W| WHITE CHERRY LIGHTS|      12|2009-12-01 07:45:00| 6.75|    13085.0|United Kingdom|\n",
            "| 489434|    22041|\"RECORD FRAME 7\"\"...|      48|2009-12-01 07:45:00|  2.1|    13085.0|United Kingdom|\n",
            "| 489434|    21232|STRAWBERRY CERAMI...|      24|2009-12-01 07:45:00| 1.25|    13085.0|United Kingdom|\n",
            "+-------+---------+--------------------+--------+-------------------+-----+-----------+--------------+\n",
            "only showing top 5 rows\n",
            "\n",
            "root\n",
            " |-- Invoice: string (nullable = true)\n",
            " |-- StockCode: string (nullable = true)\n",
            " |-- Description: string (nullable = true)\n",
            " |-- Quantity: integer (nullable = true)\n",
            " |-- InvoiceDate: timestamp (nullable = true)\n",
            " |-- Price: double (nullable = true)\n",
            " |-- Customer ID: double (nullable = true)\n",
            " |-- Country: string (nullable = true)\n",
            "\n",
            "Total records: 1067371\n"
          ]
        }
      ]
    },
    {
      "cell_type": "code",
      "source": [
        "# getting all the null counts\n",
        "\n",
        "from pyspark.sql.functions import col, sum\n",
        "\n",
        "null_counts = []\n",
        "for column in df.columns:\n",
        "  null_count = sum(col(column).isNull().cast(\"int\")).alias(column)\n",
        "  null_counts.append(null_count)\n",
        "\n",
        "df.select(null_counts).show()"
      ],
      "metadata": {
        "colab": {
          "base_uri": "https://localhost:8080/"
        },
        "id": "QcBPIsDHZi8x",
        "outputId": "36a4a331-1a52-4c34-bd59-0485d0562ed5"
      },
      "execution_count": 8,
      "outputs": [
        {
          "output_type": "stream",
          "name": "stdout",
          "text": [
            "+-------+---------+-----------+--------+-----------+-----+-----------+-------+\n",
            "|Invoice|StockCode|Description|Quantity|InvoiceDate|Price|Customer ID|Country|\n",
            "+-------+---------+-----------+--------+-----------+-----+-----------+-------+\n",
            "|      0|        0|       4382|       0|          0|    0|     243007|      0|\n",
            "+-------+---------+-----------+--------+-----------+-----+-----------+-------+\n",
            "\n"
          ]
        }
      ]
    },
    {
      "cell_type": "code",
      "source": [
        "# one liner for the same\n",
        "\n",
        "df.select([sum(col(c).isNull().cast(\"int\")).alias(c) for c in df.columns]).show()"
      ],
      "metadata": {
        "colab": {
          "base_uri": "https://localhost:8080/"
        },
        "id": "kcyRZgOJZbN9",
        "outputId": "6b797db5-dd87-4cbf-94e1-a2a4380500f6"
      },
      "execution_count": 9,
      "outputs": [
        {
          "output_type": "stream",
          "name": "stdout",
          "text": [
            "+-------+---------+-----------+--------+-----------+-----+-----------+-------+\n",
            "|Invoice|StockCode|Description|Quantity|InvoiceDate|Price|Customer ID|Country|\n",
            "+-------+---------+-----------+--------+-----------+-----+-----------+-------+\n",
            "|      0|        0|       4382|       0|          0|    0|     243007|      0|\n",
            "+-------+---------+-----------+--------+-----------+-----+-----------+-------+\n",
            "\n"
          ]
        }
      ]
    },
    {
      "cell_type": "code",
      "source": [
        "# handling null values\n",
        "\n",
        "# fill missing values in 'Description' with 'Unknown'\n",
        "df = df.fillna({\"Description\": \"Unknown\"})\n",
        "\n",
        "# drop rows where 'Customer ID' is NULL\n",
        "df = df.dropna(subset=[\"Customer ID\"])"
      ],
      "metadata": {
        "id": "yfgfP7gYaaIk"
      },
      "execution_count": 10,
      "outputs": []
    },
    {
      "cell_type": "code",
      "source": [
        "# verify if null values have been handled\n",
        "\n",
        "df.select([sum(col(c).isNull().cast(\"int\")).alias(c) for c in df.columns]).show()"
      ],
      "metadata": {
        "colab": {
          "base_uri": "https://localhost:8080/"
        },
        "id": "tYzb4rzVa8VC",
        "outputId": "9c31c2bc-7f3e-4dc5-e626-5d783d7a0faa"
      },
      "execution_count": 11,
      "outputs": [
        {
          "output_type": "stream",
          "name": "stdout",
          "text": [
            "+-------+---------+-----------+--------+-----------+-----+-----------+-------+\n",
            "|Invoice|StockCode|Description|Quantity|InvoiceDate|Price|Customer ID|Country|\n",
            "+-------+---------+-----------+--------+-----------+-----+-----------+-------+\n",
            "|      0|        0|          0|       0|          0|    0|          0|      0|\n",
            "+-------+---------+-----------+--------+-----------+-----+-----------+-------+\n",
            "\n"
          ]
        }
      ]
    },
    {
      "cell_type": "code",
      "source": [
        "# check unique products and customers\n",
        "\n",
        "print(f\"Unique Products: {df.select('StockCode').distinct().count()}\")\n",
        "print(f\"Unique Customers: {df.select('Customer ID').distinct().count()}\")"
      ],
      "metadata": {
        "colab": {
          "base_uri": "https://localhost:8080/"
        },
        "id": "C6_LICOZbAr8",
        "outputId": "5138ecdc-e277-4edf-cde5-725bf5fade08"
      },
      "execution_count": 14,
      "outputs": [
        {
          "output_type": "stream",
          "name": "stdout",
          "text": [
            "Unique Products: 4646\n",
            "Unique Customers: 5942\n"
          ]
        }
      ]
    },
    {
      "cell_type": "code",
      "source": [
        "df.describe().show()"
      ],
      "metadata": {
        "colab": {
          "base_uri": "https://localhost:8080/"
        },
        "id": "JofRdteibYxC",
        "outputId": "c79ffbe1-2ded-46d4-88dc-38f2865d397a"
      },
      "execution_count": 15,
      "outputs": [
        {
          "output_type": "stream",
          "name": "stdout",
          "text": [
            "+-------+------------------+------------------+--------------------+------------------+------------------+------------------+-----------+\n",
            "|summary|           Invoice|         StockCode|         Description|          Quantity|             Price|       Customer ID|    Country|\n",
            "+-------+------------------+------------------+--------------------+------------------+------------------+------------------+-----------+\n",
            "|  count|            824364|            824364|              824364|            824364|            824364|            824364|     824364|\n",
            "|   mean| 537410.8855639135|28826.655026367764|                NULL|12.414574144431343|3.6767995788202636| 15324.63850435002|       NULL|\n",
            "| stddev|26666.396588956923|18528.792981682243|                NULL|188.97609900976042| 70.24138768949386|1697.4644503793263|       NULL|\n",
            "|    min|            489434|             10002|  DOORMAT UNION J...|            -80995|               0.0|           12346.0|  Australia|\n",
            "|    max|           C581569|           TEST002|ZINC WIRE SWEETHE...|             80995|           38970.0|           18287.0|West Indies|\n",
            "+-------+------------------+------------------+--------------------+------------------+------------------+------------------+-----------+\n",
            "\n"
          ]
        }
      ]
    },
    {
      "cell_type": "code",
      "source": [
        "# some aggregation function like total revenue per country\n",
        "\n",
        "df.groupBy(\"Country\").agg(sum(\"Price\").alias(\"Revenue Per Country\")).show()"
      ],
      "metadata": {
        "colab": {
          "base_uri": "https://localhost:8080/"
        },
        "id": "Q9EAEIsfbqcA",
        "outputId": "9386bd3f-4df4-4cfd-8334-446e8103d8f0"
      },
      "execution_count": 18,
      "outputs": [
        {
          "output_type": "stream",
          "name": "stdout",
          "text": [
            "+-----------+-------------------+\n",
            "|    Country|Revenue Per Country|\n",
            "+-----------+-------------------+\n",
            "|     Sweden|  8596.469999999992|\n",
            "|  Singapore| 25481.400000000005|\n",
            "|    Germany|  67564.45100000099|\n",
            "|        RSA|             397.56|\n",
            "|     France|  66943.34000000023|\n",
            "|     Greece|  2600.730000000004|\n",
            "|    Belgium| 14766.879999999928|\n",
            "|    Finland|  5234.609999999995|\n",
            "|      Malta|  6575.589999999998|\n",
            "|Unspecified| 2910.9500000000007|\n",
            "|    Nigeria|             102.48|\n",
            "|      Italy|  8479.459999999961|\n",
            "|       EIRE| 109679.75999999698|\n",
            "|  Lithuania|  494.4099999999992|\n",
            "|     Norway| 41129.909999999756|\n",
            "|      Spain| 20539.470000000132|\n",
            "|    Denmark| 2397.8900000000017|\n",
            "|West Indies| 122.76999999999995|\n",
            "|   Thailand| 227.96999999999994|\n",
            "|     Israel| 1156.9300000000012|\n",
            "+-----------+-------------------+\n",
            "only showing top 20 rows\n",
            "\n"
          ]
        }
      ]
    },
    {
      "cell_type": "code",
      "source": [
        "df.groupBy(\"Country\") \\\n",
        "  .agg(sum(\"Price\").alias(\"Revenue Per Country Sorted\")) \\\n",
        "  .orderBy(\"Revenue Per Country Sorted\", ascending=False) \\\n",
        "  .show()"
      ],
      "metadata": {
        "colab": {
          "base_uri": "https://localhost:8080/"
        },
        "id": "pSEP_NwycS4k",
        "outputId": "ca7a2b65-bd46-497e-a815-4c4d91b2e591"
      },
      "execution_count": 20,
      "outputs": [
        {
          "output_type": "stream",
          "name": "stdout",
          "text": [
            "+---------------+--------------------------+\n",
            "|        Country|Revenue Per Country Sorted|\n",
            "+---------------+--------------------------+\n",
            "| United Kingdom|        2564403.8769961074|\n",
            "|           EIRE|        109679.75999999698|\n",
            "|        Germany|         67564.45100000099|\n",
            "|         France|         66943.34000000023|\n",
            "|         Norway|        41129.909999999756|\n",
            "|      Singapore|        25481.400000000005|\n",
            "|          Spain|        20539.470000000132|\n",
            "|       Portugal|        16778.780000000064|\n",
            "|    Netherlands|         15663.22999999998|\n",
            "|        Belgium|        14766.879999999928|\n",
            "|    Switzerland|        11804.789999999946|\n",
            "|Channel Islands|         9056.799999999956|\n",
            "|         Sweden|         8596.469999999992|\n",
            "|          Italy|         8479.459999999961|\n",
            "|      Australia|         8111.069999999958|\n",
            "|          Malta|         6575.589999999998|\n",
            "|         Cyprus|         6333.949999999975|\n",
            "|        Finland|         5234.609999999995|\n",
            "|        Austria|         4184.320000000003|\n",
            "|    Unspecified|        2910.9500000000007|\n",
            "+---------------+--------------------------+\n",
            "only showing top 20 rows\n",
            "\n"
          ]
        }
      ]
    },
    {
      "cell_type": "code",
      "source": [
        "# ranking products by sales using window functions\n",
        "\n",
        "from pyspark.sql.window import Window\n",
        "from pyspark.sql.functions import rank\n",
        "\n",
        "new_window = Window.partitionBy(\"Country\").orderBy(col(\"Quantity\").desc())\n",
        "\n",
        "df = df.withColumn(\"Rank\", rank().over(new_window))\n",
        "df.select(\"Description\", \"Quantity\", \"Rank\").show()"
      ],
      "metadata": {
        "colab": {
          "base_uri": "https://localhost:8080/"
        },
        "id": "YZfPEJC5c8LR",
        "outputId": "2fc5ddb9-384c-4794-dfa5-1ba8998cd321"
      },
      "execution_count": 22,
      "outputs": [
        {
          "output_type": "stream",
          "name": "stdout",
          "text": [
            "+--------------------+--------+----+\n",
            "|         Description|Quantity|Rank|\n",
            "+--------------------+--------+----+\n",
            "|MINI PAINT SET VI...|    1152|   1|\n",
            "|  RABBIT NIGHT LIGHT|     960|   2|\n",
            "|RED  HARMONICA IN...|     720|   3|\n",
            "|ASSORTED COLOURS ...|     600|   4|\n",
            "|MINI PAINT SET VI...|     576|   5|\n",
            "|KEY FOB , FRONT  ...|     576|   5|\n",
            "|      KEY FOB , SHED|     576|   5|\n",
            "|KEY FOB , GARAGE ...|     576|   5|\n",
            "|MINI PAINT SET VI...|     576|   5|\n",
            "|MINI PAINT SET VI...|     576|   5|\n",
            "|60 CAKE CASES DOL...|     480|  11|\n",
            "|HOMEMADE JAM SCEN...|     480|  11|\n",
            "|PACK OF 12 CIRCUS...|     432|  13|\n",
            "|PACK OF 12 PINK P...|     432|  13|\n",
            "|PACK OF 12 WOODLA...|     432|  13|\n",
            "|RED TOADSTOOL LED...|     432|  13|\n",
            "|  WRAP CIRCUS PARADE|     400|  17|\n",
            "|  WRAP ENGLISH ROSE |     400|  17|\n",
            "|    WRAP RED APPLES |     400|  17|\n",
            "|JAM JAR WITH PINK...|     384|  20|\n",
            "+--------------------+--------+----+\n",
            "only showing top 20 rows\n",
            "\n"
          ]
        }
      ]
    },
    {
      "cell_type": "code",
      "source": [],
      "metadata": {
        "id": "rUgFSzfWd_Mg"
      },
      "execution_count": null,
      "outputs": []
    }
  ]
}