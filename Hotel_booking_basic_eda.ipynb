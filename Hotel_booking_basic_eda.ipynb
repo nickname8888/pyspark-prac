{
  "nbformat": 4,
  "nbformat_minor": 0,
  "metadata": {
    "colab": {
      "provenance": [],
      "authorship_tag": "ABX9TyMI9k8VxzUCyEQqLp4PEkQz",
      "include_colab_link": true
    },
    "kernelspec": {
      "name": "python3",
      "display_name": "Python 3"
    },
    "language_info": {
      "name": "python"
    }
  },
  "cells": [
    {
      "cell_type": "markdown",
      "metadata": {
        "id": "view-in-github",
        "colab_type": "text"
      },
      "source": [
        "<a href=\"https://colab.research.google.com/github/nickname8888/pyspark-prac/blob/main/Hotel_booking_basic_eda.ipynb\" target=\"_parent\"><img src=\"https://colab.research.google.com/assets/colab-badge.svg\" alt=\"Open In Colab\"/></a>"
      ]
    },
    {
      "cell_type": "code",
      "execution_count": 1,
      "metadata": {
        "id": "LkQC0CFkDLjT"
      },
      "outputs": [],
      "source": [
        "from pyspark.sql import SparkSession\n",
        "import pyspark.sql.functions as f"
      ]
    },
    {
      "cell_type": "code",
      "source": [
        "spark = SparkSession.builder.appName(\"HotelEDA\").getOrCreate()\n",
        "\n",
        "df = spark.read.csv(\"hotel_bookings.csv\", header=True, inferSchema=True)"
      ],
      "metadata": {
        "id": "xpxvHhcCD8tk"
      },
      "execution_count": 2,
      "outputs": []
    },
    {
      "cell_type": "code",
      "source": [
        "# Display Schema\n",
        "df.printSchema()\n",
        "\n",
        "# Show Sample Data\n",
        "df.show(5)"
      ],
      "metadata": {
        "colab": {
          "base_uri": "https://localhost:8080/"
        },
        "id": "Ve7awa-YEJ_7",
        "outputId": "1fe0569d-a090-4dad-f272-45143dcc7ba1"
      },
      "execution_count": 27,
      "outputs": [
        {
          "output_type": "stream",
          "name": "stdout",
          "text": [
            "root\n",
            " |-- hotel: string (nullable = true)\n",
            " |-- is_canceled: integer (nullable = true)\n",
            " |-- lead_time: integer (nullable = true)\n",
            " |-- arrival_date_year: integer (nullable = true)\n",
            " |-- arrival_date_month: string (nullable = true)\n",
            " |-- arrival_date_week_number: integer (nullable = true)\n",
            " |-- arrival_date_day_of_month: integer (nullable = true)\n",
            " |-- stays_in_weekend_nights: integer (nullable = true)\n",
            " |-- stays_in_week_nights: integer (nullable = true)\n",
            " |-- adults: integer (nullable = true)\n",
            " |-- children: string (nullable = true)\n",
            " |-- babies: integer (nullable = true)\n",
            " |-- meal: string (nullable = true)\n",
            " |-- country: string (nullable = true)\n",
            " |-- market_segment: string (nullable = true)\n",
            " |-- distribution_channel: string (nullable = true)\n",
            " |-- is_repeated_guest: integer (nullable = true)\n",
            " |-- previous_cancellations: integer (nullable = true)\n",
            " |-- previous_bookings_not_canceled: integer (nullable = true)\n",
            " |-- reserved_room_type: string (nullable = true)\n",
            " |-- assigned_room_type: string (nullable = true)\n",
            " |-- booking_changes: integer (nullable = true)\n",
            " |-- deposit_type: string (nullable = true)\n",
            " |-- agent: string (nullable = true)\n",
            " |-- company: string (nullable = true)\n",
            " |-- days_in_waiting_list: integer (nullable = true)\n",
            " |-- customer_type: string (nullable = true)\n",
            " |-- adr: double (nullable = true)\n",
            " |-- required_car_parking_spaces: integer (nullable = true)\n",
            " |-- total_of_special_requests: integer (nullable = true)\n",
            " |-- reservation_status: string (nullable = true)\n",
            " |-- reservation_status_date: date (nullable = true)\n",
            "\n",
            "+------------+-----------+---------+-----------------+------------------+------------------------+-------------------------+-----------------------+--------------------+------+--------+------+----+-------+--------------+--------------------+-----------------+----------------------+------------------------------+------------------+------------------+---------------+------------+-----+-------+--------------------+-------------+----+---------------------------+-------------------------+------------------+-----------------------+\n",
            "|       hotel|is_canceled|lead_time|arrival_date_year|arrival_date_month|arrival_date_week_number|arrival_date_day_of_month|stays_in_weekend_nights|stays_in_week_nights|adults|children|babies|meal|country|market_segment|distribution_channel|is_repeated_guest|previous_cancellations|previous_bookings_not_canceled|reserved_room_type|assigned_room_type|booking_changes|deposit_type|agent|company|days_in_waiting_list|customer_type| adr|required_car_parking_spaces|total_of_special_requests|reservation_status|reservation_status_date|\n",
            "+------------+-----------+---------+-----------------+------------------+------------------------+-------------------------+-----------------------+--------------------+------+--------+------+----+-------+--------------+--------------------+-----------------+----------------------+------------------------------+------------------+------------------+---------------+------------+-----+-------+--------------------+-------------+----+---------------------------+-------------------------+------------------+-----------------------+\n",
            "|Resort Hotel|          0|      342|             2015|              July|                      27|                        1|                      0|                   0|     2|       0|     0|  BB|    PRT|        Direct|              Direct|                0|                     0|                             0|                 C|                 C|              3|  No Deposit| NULL|   NULL|                   0|    Transient| 0.0|                          0|                        0|         Check-Out|             2015-07-01|\n",
            "|Resort Hotel|          0|      737|             2015|              July|                      27|                        1|                      0|                   0|     2|       0|     0|  BB|    PRT|        Direct|              Direct|                0|                     0|                             0|                 C|                 C|              4|  No Deposit| NULL|   NULL|                   0|    Transient| 0.0|                          0|                        0|         Check-Out|             2015-07-01|\n",
            "|Resort Hotel|          0|        7|             2015|              July|                      27|                        1|                      0|                   1|     1|       0|     0|  BB|    GBR|        Direct|              Direct|                0|                     0|                             0|                 A|                 C|              0|  No Deposit| NULL|   NULL|                   0|    Transient|75.0|                          0|                        0|         Check-Out|             2015-07-02|\n",
            "|Resort Hotel|          0|       13|             2015|              July|                      27|                        1|                      0|                   1|     1|       0|     0|  BB|    GBR|     Corporate|           Corporate|                0|                     0|                             0|                 A|                 A|              0|  No Deposit|  304|   NULL|                   0|    Transient|75.0|                          0|                        0|         Check-Out|             2015-07-02|\n",
            "|Resort Hotel|          0|       14|             2015|              July|                      27|                        1|                      0|                   2|     2|       0|     0|  BB|    GBR|     Online TA|               TA/TO|                0|                     0|                             0|                 A|                 A|              0|  No Deposit|  240|   NULL|                   0|    Transient|98.0|                          0|                        1|         Check-Out|             2015-07-03|\n",
            "+------------+-----------+---------+-----------------+------------------+------------------------+-------------------------+-----------------------+--------------------+------+--------+------+----+-------+--------------+--------------------+-----------------+----------------------+------------------------------+------------------+------------------+---------------+------------+-----+-------+--------------------+-------------+----+---------------------------+-------------------------+------------------+-----------------------+\n",
            "only showing top 5 rows\n",
            "\n"
          ]
        }
      ]
    },
    {
      "cell_type": "code",
      "source": [
        "# get missing values\n",
        "\n",
        "from pyspark.sql.functions import col\n",
        "\n",
        "missing_values = {c: df.filter(col(c).isNull()).count() for c in df.columns}\n",
        "print(missing_values)"
      ],
      "metadata": {
        "colab": {
          "base_uri": "https://localhost:8080/"
        },
        "id": "zeHlwBWzEUjx",
        "outputId": "47b0b8d3-e72a-48cc-f697-11f8bc292606"
      },
      "execution_count": 7,
      "outputs": [
        {
          "output_type": "stream",
          "name": "stdout",
          "text": [
            "{'hotel': 0, 'is_canceled': 0, 'lead_time': 0, 'arrival_date_year': 0, 'arrival_date_month': 0, 'arrival_date_week_number': 0, 'arrival_date_day_of_month': 0, 'stays_in_weekend_nights': 0, 'stays_in_week_nights': 0, 'adults': 0, 'children': 0, 'babies': 0, 'meal': 0, 'country': 0, 'market_segment': 0, 'distribution_channel': 0, 'is_repeated_guest': 0, 'previous_cancellations': 0, 'previous_bookings_not_canceled': 0, 'reserved_room_type': 0, 'assigned_room_type': 0, 'booking_changes': 0, 'deposit_type': 0, 'agent': 0, 'company': 0, 'days_in_waiting_list': 0, 'customer_type': 0, 'adr': 0, 'required_car_parking_spaces': 0, 'total_of_special_requests': 0, 'reservation_status': 0, 'reservation_status_date': 0}\n"
          ]
        }
      ]
    },
    {
      "cell_type": "code",
      "source": [
        "missing_values = {k: v for k,v in missing_values.items() if v > 0}\n",
        "print(missing_values)"
      ],
      "metadata": {
        "colab": {
          "base_uri": "https://localhost:8080/"
        },
        "id": "OXmy8P6LFl7I",
        "outputId": "8d20286c-7a28-4caa-97c4-611660d08358"
      },
      "execution_count": 8,
      "outputs": [
        {
          "output_type": "stream",
          "name": "stdout",
          "text": [
            "{}\n"
          ]
        }
      ]
    },
    {
      "cell_type": "code",
      "source": [
        "# corrected way to get missing values as null values are written separately as string NULL\n",
        "\n",
        "missing_values = {c: df.filter((col(c).isNull()) | (col(c) == \"\") | (col(c) == \"NA\") | (col(c) == \"NULL\")).count() for c in df.columns}\n",
        "\n",
        "# Show only columns with missing values\n",
        "missing_values = {k: v for k, v in missing_values.items() if v > 0}\n",
        "\n",
        "print(missing_values)\n"
      ],
      "metadata": {
        "colab": {
          "base_uri": "https://localhost:8080/"
        },
        "id": "VN10EwqBGAS3",
        "outputId": "e99982d9-630e-476e-d40f-21888cf74bd4"
      },
      "execution_count": 11,
      "outputs": [
        {
          "output_type": "stream",
          "name": "stdout",
          "text": [
            "{'children': 4, 'country': 488, 'agent': 16340, 'company': 112593}\n"
          ]
        }
      ]
    },
    {
      "cell_type": "code",
      "source": [
        " df_cleaned = df.fillna({\n",
        "    \"children\": 0,  # Replace NULLs with 0 (since children count should be numeric)\n",
        "    \"country\": \"Unknown\",  # Replace missing country with 'Unknown'\n",
        "    \"agent\": \"Unknown\",  # Replace missing agent ID with 'Unknown'\n",
        "    \"company\": \"Unknown\"  # Replace missing company ID with 'Unknown'\n",
        "})"
      ],
      "metadata": {
        "id": "2kb1neBPGIoQ"
      },
      "execution_count": 12,
      "outputs": []
    },
    {
      "cell_type": "code",
      "source": [
        "df_cleaned.show(5)"
      ],
      "metadata": {
        "colab": {
          "base_uri": "https://localhost:8080/"
        },
        "id": "bQFvjwzfHPnO",
        "outputId": "28399e78-23c6-47be-8d61-8da7412306e0"
      },
      "execution_count": 13,
      "outputs": [
        {
          "output_type": "stream",
          "name": "stdout",
          "text": [
            "+------------+-----------+---------+-----------------+------------------+------------------------+-------------------------+-----------------------+--------------------+------+--------+------+----+-------+--------------+--------------------+-----------------+----------------------+------------------------------+------------------+------------------+---------------+------------+-----+-------+--------------------+-------------+----+---------------------------+-------------------------+------------------+-----------------------+\n",
            "|       hotel|is_canceled|lead_time|arrival_date_year|arrival_date_month|arrival_date_week_number|arrival_date_day_of_month|stays_in_weekend_nights|stays_in_week_nights|adults|children|babies|meal|country|market_segment|distribution_channel|is_repeated_guest|previous_cancellations|previous_bookings_not_canceled|reserved_room_type|assigned_room_type|booking_changes|deposit_type|agent|company|days_in_waiting_list|customer_type| adr|required_car_parking_spaces|total_of_special_requests|reservation_status|reservation_status_date|\n",
            "+------------+-----------+---------+-----------------+------------------+------------------------+-------------------------+-----------------------+--------------------+------+--------+------+----+-------+--------------+--------------------+-----------------+----------------------+------------------------------+------------------+------------------+---------------+------------+-----+-------+--------------------+-------------+----+---------------------------+-------------------------+------------------+-----------------------+\n",
            "|Resort Hotel|          0|      342|             2015|              July|                      27|                        1|                      0|                   0|     2|       0|     0|  BB|    PRT|        Direct|              Direct|                0|                     0|                             0|                 C|                 C|              3|  No Deposit| NULL|   NULL|                   0|    Transient| 0.0|                          0|                        0|         Check-Out|             2015-07-01|\n",
            "|Resort Hotel|          0|      737|             2015|              July|                      27|                        1|                      0|                   0|     2|       0|     0|  BB|    PRT|        Direct|              Direct|                0|                     0|                             0|                 C|                 C|              4|  No Deposit| NULL|   NULL|                   0|    Transient| 0.0|                          0|                        0|         Check-Out|             2015-07-01|\n",
            "|Resort Hotel|          0|        7|             2015|              July|                      27|                        1|                      0|                   1|     1|       0|     0|  BB|    GBR|        Direct|              Direct|                0|                     0|                             0|                 A|                 C|              0|  No Deposit| NULL|   NULL|                   0|    Transient|75.0|                          0|                        0|         Check-Out|             2015-07-02|\n",
            "|Resort Hotel|          0|       13|             2015|              July|                      27|                        1|                      0|                   1|     1|       0|     0|  BB|    GBR|     Corporate|           Corporate|                0|                     0|                             0|                 A|                 A|              0|  No Deposit|  304|   NULL|                   0|    Transient|75.0|                          0|                        0|         Check-Out|             2015-07-02|\n",
            "|Resort Hotel|          0|       14|             2015|              July|                      27|                        1|                      0|                   2|     2|       0|     0|  BB|    GBR|     Online TA|               TA/TO|                0|                     0|                             0|                 A|                 A|              0|  No Deposit|  240|   NULL|                   0|    Transient|98.0|                          0|                        1|         Check-Out|             2015-07-03|\n",
            "+------------+-----------+---------+-----------------+------------------+------------------------+-------------------------+-----------------------+--------------------+------+--------+------+----+-------+--------------+--------------------+-----------------+----------------------+------------------------------+------------------+------------------+---------------+------------+-----+-------+--------------------+-------------+----+---------------------------+-------------------------+------------------+-----------------------+\n",
            "only showing top 5 rows\n",
            "\n"
          ]
        }
      ]
    },
    {
      "cell_type": "code",
      "source": [
        "# calculate mean average daily rate\n",
        "\n",
        "mean_adr = df_cleaned.select(f.mean(col(\"adr\"))).collect()[0][0]\n",
        "print(\"mean average daily rate is:\",mean_adr)"
      ],
      "metadata": {
        "colab": {
          "base_uri": "https://localhost:8080/"
        },
        "id": "32T1XHVuHWAb",
        "outputId": "3000ba98-3368-441f-96f5-80f55df0da28"
      },
      "execution_count": 22,
      "outputs": [
        {
          "output_type": "stream",
          "name": "stdout",
          "text": [
            "mean average daily rate is: 101.83112153446218\n"
          ]
        }
      ]
    },
    {
      "cell_type": "markdown",
      "source": [
        "## **Aggregations and other functions**"
      ],
      "metadata": {
        "id": "nyHxoj8FH9n-"
      }
    },
    {
      "cell_type": "code",
      "source": [
        "# Average Lead Time per Hotel Type\n",
        "\n",
        "df_cleaned.groupBy(\"hotel\").agg(f.avg(\"lead_time\").alias(\"Avg_Lead_Time\")).show()"
      ],
      "metadata": {
        "colab": {
          "base_uri": "https://localhost:8080/"
        },
        "id": "Ad0tbzjxID9D",
        "outputId": "cec211b5-75eb-4363-f683-bc3db55382b1"
      },
      "execution_count": 23,
      "outputs": [
        {
          "output_type": "stream",
          "name": "stdout",
          "text": [
            "+------------+------------------+\n",
            "|       hotel|     Avg_Lead_Time|\n",
            "+------------+------------------+\n",
            "|  City Hotel|109.73572419009201|\n",
            "|Resort Hotel| 92.67568647029456|\n",
            "+------------+------------------+\n",
            "\n"
          ]
        }
      ]
    },
    {
      "cell_type": "code",
      "source": [
        "# Total Cancellations per Hotel Type\n",
        "\n",
        "df_cleaned.groupBy(\"hotel\").agg(f.count(f.when(col(\"is_canceled\") == 1, True)).alias(\"Total_Cancellations\")).show()"
      ],
      "metadata": {
        "colab": {
          "base_uri": "https://localhost:8080/"
        },
        "id": "T4O34UqaIOM1",
        "outputId": "129221cb-f9e7-45d4-dcf4-34f50f8e9710"
      },
      "execution_count": 24,
      "outputs": [
        {
          "output_type": "stream",
          "name": "stdout",
          "text": [
            "+------------+-------------------+\n",
            "|       hotel|Total_Cancellations|\n",
            "+------------+-------------------+\n",
            "|  City Hotel|              33102|\n",
            "|Resort Hotel|              11122|\n",
            "+------------+-------------------+\n",
            "\n"
          ]
        }
      ]
    },
    {
      "cell_type": "code",
      "source": [
        "df_cleaned.select(f.max(\"adr\").alias(\"Max_ADR\"), f.min(\"adr\").alias(\"Min_ADR\")).show()"
      ],
      "metadata": {
        "colab": {
          "base_uri": "https://localhost:8080/"
        },
        "id": "bUqFPzfhIaeP",
        "outputId": "ab8c7d52-422f-40b0-ecda-855b3d7cf803"
      },
      "execution_count": 25,
      "outputs": [
        {
          "output_type": "stream",
          "name": "stdout",
          "text": [
            "+-------+-------+\n",
            "|Max_ADR|Min_ADR|\n",
            "+-------+-------+\n",
            "| 5400.0|  -6.38|\n",
            "+-------+-------+\n",
            "\n"
          ]
        }
      ]
    },
    {
      "cell_type": "code",
      "source": [
        "df_bookings = df_cleaned.select(\"reservation_status\", \"hotel\", \"agent\", \"adr\")\n",
        "df_agents = df_cleaned.select(\"agent\", \"company\")\n",
        "\n",
        "df_joined = df_bookings.join(df_agents, on=\"agent\", how=\"left\")\n",
        "df_joined.show(5)"
      ],
      "metadata": {
        "colab": {
          "base_uri": "https://localhost:8080/"
        },
        "id": "ktKnXuA8IhCB",
        "outputId": "8f6512ba-9a90-459f-b18f-3f7ec00d1d26"
      },
      "execution_count": 26,
      "outputs": [
        {
          "output_type": "stream",
          "name": "stdout",
          "text": [
            "+-----+------------------+------------+---+-------+\n",
            "|agent|reservation_status|       hotel|adr|company|\n",
            "+-----+------------------+------------+---+-------+\n",
            "| NULL|         Check-Out|Resort Hotel|0.0|    485|\n",
            "| NULL|         Check-Out|Resort Hotel|0.0|   NULL|\n",
            "| NULL|         Check-Out|Resort Hotel|0.0|   NULL|\n",
            "| NULL|         Check-Out|Resort Hotel|0.0|   NULL|\n",
            "| NULL|         Check-Out|Resort Hotel|0.0|     72|\n",
            "+-----+------------------+------------+---+-------+\n",
            "only showing top 5 rows\n",
            "\n"
          ]
        }
      ]
    },
    {
      "cell_type": "code",
      "source": [
        "df_cleaned.filter(col(\"children\") >= 3).show(5)"
      ],
      "metadata": {
        "colab": {
          "base_uri": "https://localhost:8080/"
        },
        "id": "rT3gHYqMI7HI",
        "outputId": "d47f6afd-6c2a-473c-b8cc-d0ca674c9491"
      },
      "execution_count": 29,
      "outputs": [
        {
          "output_type": "stream",
          "name": "stdout",
          "text": [
            "+------------+-----------+---------+-----------------+------------------+------------------------+-------------------------+-----------------------+--------------------+------+--------+------+----+-------+--------------+--------------------+-----------------+----------------------+------------------------------+------------------+------------------+---------------+------------+-----+-------+--------------------+-------------+------+---------------------------+-------------------------+------------------+-----------------------+\n",
            "|       hotel|is_canceled|lead_time|arrival_date_year|arrival_date_month|arrival_date_week_number|arrival_date_day_of_month|stays_in_weekend_nights|stays_in_week_nights|adults|children|babies|meal|country|market_segment|distribution_channel|is_repeated_guest|previous_cancellations|previous_bookings_not_canceled|reserved_room_type|assigned_room_type|booking_changes|deposit_type|agent|company|days_in_waiting_list|customer_type|   adr|required_car_parking_spaces|total_of_special_requests|reservation_status|reservation_status_date|\n",
            "+------------+-----------+---------+-----------------+------------------+------------------------+-------------------------+-----------------------+--------------------+------+--------+------+----+-------+--------------+--------------------+-----------------+----------------------+------------------------------+------------------+------------------+---------------+------------+-----+-------+--------------------+-------------+------+---------------------------+-------------------------+------------------+-----------------------+\n",
            "|Resort Hotel|          1|       55|             2015|              July|                      29|                       12|                      4|                  10|     2|      10|     0|  BB|    PRT| Offline TA/TO|               TA/TO|                0|                     0|                             0|                 D|                 D|              2|  No Deposit|    8|   NULL|                   0|     Contract|133.16|                          0|                        1|           No-Show|             2015-07-12|\n",
            "|Resort Hotel|          1|      266|             2016|              June|                      27|                       28|                      2|                   8|     2|       3|     0|  BB|    PRT|     Online TA|               TA/TO|                0|                     0|                             0|                 H|                 H|              0|  No Deposit|  240|   NULL|                   0|    Transient| 151.8|                          0|                        0|          Canceled|             2015-10-12|\n",
            "|Resort Hotel|          1|       70|             2016|            August|                      34|                       19|                      2|                   3|     1|       3|     0|  BB|    PRT|        Direct|              Direct|                0|                     0|                             0|                 C|                 C|              0|  No Deposit| NULL|   NULL|                   0|    Transient| 200.7|                          0|                        0|          Canceled|             2016-06-17|\n",
            "|Resort Hotel|          0|      272|             2015|            August|                      34|                       17|                      3|                   6|     2|       3|     0|  BB|    BEL|     Online TA|               TA/TO|                0|                     0|                             0|                 G|                 G|              0|  No Deposit|  240|   NULL|                   0|    Transient| 199.0|                          0|                        3|         Check-Out|             2015-08-26|\n",
            "|Resort Hotel|          0|        0|             2015|          November|                      48|                       28|                      0|                   1|     2|       3|     0|  BB|    PRT|        Direct|              Direct|                0|                     0|                             0|                 G|                 G|              1|  No Deposit| NULL|   NULL|                   0|    Transient|  93.0|                          0|                        0|         Check-Out|             2015-11-29|\n",
            "+------------+-----------+---------+-----------------+------------------+------------------------+-------------------------+-----------------------+--------------------+------+--------+------+----+-------+--------------+--------------------+-----------------+----------------------+------------------------------+------------------+------------------+---------------+------------+-----+-------+--------------------+-------------+------+---------------------------+-------------------------+------------------+-----------------------+\n",
            "only showing top 5 rows\n",
            "\n"
          ]
        }
      ]
    },
    {
      "cell_type": "code",
      "source": [
        "# Total Nights Stayed per Hotel Type\n",
        "\n",
        "df_cleaned.withColumn(\"total_nights\", col(\"stays_in_weekend_nights\") + col(\"stays_in_week_nights\"))\\\n",
        "  .groupBy(\"hotel\")\\\n",
        "  .agg(f.sum(\"total_nights\").alias(\"Total_Nights_Stayed\"))\\\n",
        "  .show()"
      ],
      "metadata": {
        "colab": {
          "base_uri": "https://localhost:8080/"
        },
        "id": "4DtdykddJLpp",
        "outputId": "4670f891-7a1f-46b8-c596-6acde9d6aa4a"
      },
      "execution_count": 30,
      "outputs": [
        {
          "output_type": "stream",
          "name": "stdout",
          "text": [
            "+------------+-------------------+\n",
            "|       hotel|Total_Nights_Stayed|\n",
            "+------------+-------------------+\n",
            "|  City Hotel|             236256|\n",
            "|Resort Hotel|             173001|\n",
            "+------------+-------------------+\n",
            "\n"
          ]
        }
      ]
    },
    {
      "cell_type": "code",
      "source": [
        "# Percentage of Cancellations\n",
        "\n",
        "total_bookings = df_cleaned.count()\n",
        "canceled_bookings = df_cleaned.filter(col(\"is_canceled\") == 1).count()\n",
        "\n",
        "cancellation_rate = (canceled_bookings / total_bookings) * 100\n",
        "\n",
        "print(\"The cancellation rate is:\", cancellation_rate, \"%\")"
      ],
      "metadata": {
        "colab": {
          "base_uri": "https://localhost:8080/"
        },
        "id": "j2p0PfZ4JumD",
        "outputId": "5bcc8ca8-e930-4c14-d27a-dae9edc3d3af"
      },
      "execution_count": 31,
      "outputs": [
        {
          "output_type": "stream",
          "name": "stdout",
          "text": [
            "The cancellation rate is: 37.041628277075134 %\n"
          ]
        }
      ]
    }
  ]
}