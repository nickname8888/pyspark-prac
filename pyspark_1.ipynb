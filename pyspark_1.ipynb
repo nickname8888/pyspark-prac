{
  "nbformat": 4,
  "nbformat_minor": 0,
  "metadata": {
    "colab": {
      "provenance": [],
      "authorship_tag": "ABX9TyO5fEQQpKPEFz4sOHW8Qgvj",
      "include_colab_link": true
    },
    "kernelspec": {
      "name": "python3",
      "display_name": "Python 3"
    },
    "language_info": {
      "name": "python"
    }
  },
  "cells": [
    {
      "cell_type": "markdown",
      "metadata": {
        "id": "view-in-github",
        "colab_type": "text"
      },
      "source": [
        "<a href=\"https://colab.research.google.com/github/nickname8888/pyspark-prac/blob/main/pyspark_1.ipynb\" target=\"_parent\"><img src=\"https://colab.research.google.com/assets/colab-badge.svg\" alt=\"Open In Colab\"/></a>"
      ]
    },
    {
      "cell_type": "code",
      "execution_count": 1,
      "metadata": {
        "colab": {
          "base_uri": "https://localhost:8080/"
        },
        "id": "v17G7wg-wcYt",
        "outputId": "1365d6d4-9f17-40cf-8435-f9099422dddc"
      },
      "outputs": [
        {
          "output_type": "stream",
          "name": "stdout",
          "text": [
            "Requirement already satisfied: pyspark in /usr/local/lib/python3.11/dist-packages (3.5.5)\n",
            "Requirement already satisfied: py4j==0.10.9.7 in /usr/local/lib/python3.11/dist-packages (from pyspark) (0.10.9.7)\n"
          ]
        }
      ],
      "source": [
        "!pip install pyspark"
      ]
    },
    {
      "cell_type": "code",
      "source": [
        "import pyspark\n",
        "from pyspark.sql import SparkSession\n",
        "import pandas as pd"
      ],
      "metadata": {
        "id": "fAjjZj0YwtFA"
      },
      "execution_count": 2,
      "outputs": []
    },
    {
      "cell_type": "code",
      "source": [
        "spark = SparkSession.builder.appName(\"analyzer-1\").getOrCreate()\n",
        "spark"
      ],
      "metadata": {
        "colab": {
          "base_uri": "https://localhost:8080/",
          "height": 219
        },
        "id": "ZHq3Tog2wv7L",
        "outputId": "2c8d8b8d-3af6-4736-9499-37992de6ea98"
      },
      "execution_count": 3,
      "outputs": [
        {
          "output_type": "execute_result",
          "data": {
            "text/plain": [
              "<pyspark.sql.session.SparkSession at 0x79ea0d05e090>"
            ],
            "text/html": [
              "\n",
              "            <div>\n",
              "                <p><b>SparkSession - in-memory</b></p>\n",
              "                \n",
              "        <div>\n",
              "            <p><b>SparkContext</b></p>\n",
              "\n",
              "            <p><a href=\"http://4fe91f5d4f48:4040\">Spark UI</a></p>\n",
              "\n",
              "            <dl>\n",
              "              <dt>Version</dt>\n",
              "                <dd><code>v3.5.5</code></dd>\n",
              "              <dt>Master</dt>\n",
              "                <dd><code>local[*]</code></dd>\n",
              "              <dt>AppName</dt>\n",
              "                <dd><code>analyzer-1</code></dd>\n",
              "            </dl>\n",
              "        </div>\n",
              "        \n",
              "            </div>\n",
              "        "
            ]
          },
          "metadata": {},
          "execution_count": 3
        }
      ]
    },
    {
      "cell_type": "code",
      "source": [
        "df_pyspark = spark.read.csv(\"tips.csv\")\n",
        "df_pyspark"
      ],
      "metadata": {
        "colab": {
          "base_uri": "https://localhost:8080/"
        },
        "id": "TPs1MLipxAH6",
        "outputId": "0719c0c7-cbba-4930-d614-194202c14d54"
      },
      "execution_count": 5,
      "outputs": [
        {
          "output_type": "execute_result",
          "data": {
            "text/plain": [
              "DataFrame[_c0: string, _c1: string, _c2: string, _c3: string, _c4: string, _c5: string, _c6: string]"
            ]
          },
          "metadata": {},
          "execution_count": 5
        }
      ]
    },
    {
      "cell_type": "code",
      "source": [
        "df_pyspark.show(5)"
      ],
      "metadata": {
        "colab": {
          "base_uri": "https://localhost:8080/"
        },
        "id": "p7NfTa73xL7L",
        "outputId": "07c16f00-fc6b-4f7d-d0ec-01f3cbafab94"
      },
      "execution_count": 6,
      "outputs": [
        {
          "output_type": "stream",
          "name": "stdout",
          "text": [
            "+----------+----+------+------+---+------+----+\n",
            "|       _c0| _c1|   _c2|   _c3|_c4|   _c5| _c6|\n",
            "+----------+----+------+------+---+------+----+\n",
            "|total_bill| tip|   sex|smoker|day|  time|size|\n",
            "|     16.99|1.01|Female|    No|Sun|Dinner|   2|\n",
            "|     10.34|1.66|  Male|    No|Sun|Dinner|   3|\n",
            "|     21.01| 3.5|  Male|    No|Sun|Dinner|   3|\n",
            "|     23.68|3.31|  Male|    No|Sun|Dinner|   2|\n",
            "+----------+----+------+------+---+------+----+\n",
            "only showing top 5 rows\n",
            "\n"
          ]
        }
      ]
    },
    {
      "cell_type": "code",
      "source": [
        "df_pyspark.printSchema()"
      ],
      "metadata": {
        "colab": {
          "base_uri": "https://localhost:8080/"
        },
        "id": "amWU9N3oxQ73",
        "outputId": "a2c0cf17-e21b-4905-d84d-dd4d1242b98b"
      },
      "execution_count": 7,
      "outputs": [
        {
          "output_type": "stream",
          "name": "stdout",
          "text": [
            "root\n",
            " |-- _c0: string (nullable = true)\n",
            " |-- _c1: string (nullable = true)\n",
            " |-- _c2: string (nullable = true)\n",
            " |-- _c3: string (nullable = true)\n",
            " |-- _c4: string (nullable = true)\n",
            " |-- _c5: string (nullable = true)\n",
            " |-- _c6: string (nullable = true)\n",
            "\n"
          ]
        }
      ]
    },
    {
      "cell_type": "code",
      "source": [
        "df_pyspark = spark.read.csv(\"tips.csv\", header = True, inferSchema = True)\n",
        "df_pyspark.show(5)"
      ],
      "metadata": {
        "colab": {
          "base_uri": "https://localhost:8080/"
        },
        "id": "dlOsqn-AxW-8",
        "outputId": "5f6b5966-7500-44c8-ca56-8317c739b15e"
      },
      "execution_count": 8,
      "outputs": [
        {
          "output_type": "stream",
          "name": "stdout",
          "text": [
            "+----------+----+------+------+---+------+----+\n",
            "|total_bill| tip|   sex|smoker|day|  time|size|\n",
            "+----------+----+------+------+---+------+----+\n",
            "|     16.99|1.01|Female|    No|Sun|Dinner|   2|\n",
            "|     10.34|1.66|  Male|    No|Sun|Dinner|   3|\n",
            "|     21.01| 3.5|  Male|    No|Sun|Dinner|   3|\n",
            "|     23.68|3.31|  Male|    No|Sun|Dinner|   2|\n",
            "|     24.59|3.61|Female|    No|Sun|Dinner|   4|\n",
            "+----------+----+------+------+---+------+----+\n",
            "only showing top 5 rows\n",
            "\n"
          ]
        }
      ]
    },
    {
      "cell_type": "code",
      "source": [
        "df_pyspark.printSchema()"
      ],
      "metadata": {
        "colab": {
          "base_uri": "https://localhost:8080/"
        },
        "id": "88pue_MmxdQ2",
        "outputId": "f0425a3b-ff34-47d9-e84f-230677ee25fc"
      },
      "execution_count": 9,
      "outputs": [
        {
          "output_type": "stream",
          "name": "stdout",
          "text": [
            "root\n",
            " |-- total_bill: double (nullable = true)\n",
            " |-- tip: double (nullable = true)\n",
            " |-- sex: string (nullable = true)\n",
            " |-- smoker: string (nullable = true)\n",
            " |-- day: string (nullable = true)\n",
            " |-- time: string (nullable = true)\n",
            " |-- size: integer (nullable = true)\n",
            "\n"
          ]
        }
      ]
    },
    {
      "cell_type": "code",
      "source": [
        "type(df_pyspark)"
      ],
      "metadata": {
        "colab": {
          "base_uri": "https://localhost:8080/",
          "height": 186
        },
        "id": "FtiwGWh2xd9t",
        "outputId": "f562f531-e00c-4e5c-8668-83b9c32ea107"
      },
      "execution_count": 10,
      "outputs": [
        {
          "output_type": "execute_result",
          "data": {
            "text/plain": [
              "pyspark.sql.dataframe.DataFrame"
            ],
            "text/html": [
              "<div style=\"max-width:800px; border: 1px solid var(--colab-border-color);\"><style>\n",
              "      pre.function-repr-contents {\n",
              "        overflow-x: auto;\n",
              "        padding: 8px 12px;\n",
              "        max-height: 500px;\n",
              "      }\n",
              "\n",
              "      pre.function-repr-contents.function-repr-contents-collapsed {\n",
              "        cursor: pointer;\n",
              "        max-height: 100px;\n",
              "      }\n",
              "    </style>\n",
              "    <pre style=\"white-space: initial; background:\n",
              "         var(--colab-secondary-surface-color); padding: 8px 12px;\n",
              "         border-bottom: 1px solid var(--colab-border-color);\"><b>pyspark.sql.dataframe.DataFrame</b><br/>def __init__(jdf: JavaObject, sql_ctx: Union[&#x27;SQLContext&#x27;, &#x27;SparkSession&#x27;])</pre><pre class=\"function-repr-contents function-repr-contents-collapsed\" style=\"\"><a class=\"filepath\" style=\"display:none\" href=\"#\">/usr/local/lib/python3.11/dist-packages/pyspark/sql/dataframe.py</a>A distributed collection of data grouped into named columns.\n",
              "\n",
              ".. versionadded:: 1.3.0\n",
              "\n",
              ".. versionchanged:: 3.4.0\n",
              "    Supports Spark Connect.\n",
              "\n",
              "Examples\n",
              "--------\n",
              "A :class:`DataFrame` is equivalent to a relational table in Spark SQL,\n",
              "and can be created using various functions in :class:`SparkSession`:\n",
              "\n",
              "&gt;&gt;&gt; people = spark.createDataFrame([\n",
              "...     {&quot;deptId&quot;: 1, &quot;age&quot;: 40, &quot;name&quot;: &quot;Hyukjin Kwon&quot;, &quot;gender&quot;: &quot;M&quot;, &quot;salary&quot;: 50},\n",
              "...     {&quot;deptId&quot;: 1, &quot;age&quot;: 50, &quot;name&quot;: &quot;Takuya Ueshin&quot;, &quot;gender&quot;: &quot;M&quot;, &quot;salary&quot;: 100},\n",
              "...     {&quot;deptId&quot;: 2, &quot;age&quot;: 60, &quot;name&quot;: &quot;Xinrong Meng&quot;, &quot;gender&quot;: &quot;F&quot;, &quot;salary&quot;: 150},\n",
              "...     {&quot;deptId&quot;: 3, &quot;age&quot;: 20, &quot;name&quot;: &quot;Haejoon Lee&quot;, &quot;gender&quot;: &quot;M&quot;, &quot;salary&quot;: 200}\n",
              "... ])\n",
              "\n",
              "Once created, it can be manipulated using the various domain-specific-language\n",
              "(DSL) functions defined in: :class:`DataFrame`, :class:`Column`.\n",
              "\n",
              "To select a column from the :class:`DataFrame`, use the apply method:\n",
              "\n",
              "&gt;&gt;&gt; age_col = people.age\n",
              "\n",
              "A more concrete example:\n",
              "\n",
              "&gt;&gt;&gt; # To create DataFrame using SparkSession\n",
              "... department = spark.createDataFrame([\n",
              "...     {&quot;id&quot;: 1, &quot;name&quot;: &quot;PySpark&quot;},\n",
              "...     {&quot;id&quot;: 2, &quot;name&quot;: &quot;ML&quot;},\n",
              "...     {&quot;id&quot;: 3, &quot;name&quot;: &quot;Spark SQL&quot;}\n",
              "... ])\n",
              "\n",
              "&gt;&gt;&gt; people.filter(people.age &gt; 30).join(\n",
              "...     department, people.deptId == department.id).groupBy(\n",
              "...     department.name, &quot;gender&quot;).agg({&quot;salary&quot;: &quot;avg&quot;, &quot;age&quot;: &quot;max&quot;}).show()\n",
              "+-------+------+-----------+--------+\n",
              "|   name|gender|avg(salary)|max(age)|\n",
              "+-------+------+-----------+--------+\n",
              "|     ML|     F|      150.0|      60|\n",
              "|PySpark|     M|       75.0|      50|\n",
              "+-------+------+-----------+--------+\n",
              "\n",
              "Notes\n",
              "-----\n",
              "A DataFrame should only be created as described above. It should not be directly\n",
              "created via using the constructor.</pre>\n",
              "      <script>\n",
              "      if (google.colab.kernel.accessAllowed && google.colab.files && google.colab.files.view) {\n",
              "        for (const element of document.querySelectorAll('.filepath')) {\n",
              "          element.style.display = 'block'\n",
              "          element.onclick = (event) => {\n",
              "            event.preventDefault();\n",
              "            event.stopPropagation();\n",
              "            google.colab.files.view(element.textContent, 80);\n",
              "          };\n",
              "        }\n",
              "      }\n",
              "      for (const element of document.querySelectorAll('.function-repr-contents')) {\n",
              "        element.onclick = (event) => {\n",
              "          event.preventDefault();\n",
              "          event.stopPropagation();\n",
              "          element.classList.toggle('function-repr-contents-collapsed');\n",
              "        };\n",
              "      }\n",
              "      </script>\n",
              "      </div>"
            ]
          },
          "metadata": {},
          "execution_count": 10
        }
      ]
    },
    {
      "cell_type": "code",
      "source": [
        "df_pyspark.columns"
      ],
      "metadata": {
        "colab": {
          "base_uri": "https://localhost:8080/"
        },
        "id": "oXHlvdunxjuF",
        "outputId": "bfcf31bc-4091-464c-f64d-953e3ee63fae"
      },
      "execution_count": 11,
      "outputs": [
        {
          "output_type": "execute_result",
          "data": {
            "text/plain": [
              "['total_bill', 'tip', 'sex', 'smoker', 'day', 'time', 'size']"
            ]
          },
          "metadata": {},
          "execution_count": 11
        }
      ]
    },
    {
      "cell_type": "code",
      "source": [
        "df_pyspark.head(3)"
      ],
      "metadata": {
        "colab": {
          "base_uri": "https://localhost:8080/"
        },
        "id": "-CQRRe9Pxlab",
        "outputId": "7af16156-541c-4012-dbf9-b257b8f133bd"
      },
      "execution_count": 12,
      "outputs": [
        {
          "output_type": "execute_result",
          "data": {
            "text/plain": [
              "[Row(total_bill=16.99, tip=1.01, sex='Female', smoker='No', day='Sun', time='Dinner', size=2),\n",
              " Row(total_bill=10.34, tip=1.66, sex='Male', smoker='No', day='Sun', time='Dinner', size=3),\n",
              " Row(total_bill=21.01, tip=3.5, sex='Male', smoker='No', day='Sun', time='Dinner', size=3)]"
            ]
          },
          "metadata": {},
          "execution_count": 12
        }
      ]
    },
    {
      "cell_type": "code",
      "source": [
        "df_pyspark.select(\"sex\").show(5)"
      ],
      "metadata": {
        "colab": {
          "base_uri": "https://localhost:8080/"
        },
        "id": "N-jtMy0Qxm-V",
        "outputId": "23e7d609-8739-431c-ee19-72b80e905cac"
      },
      "execution_count": 13,
      "outputs": [
        {
          "output_type": "stream",
          "name": "stdout",
          "text": [
            "+------+\n",
            "|   sex|\n",
            "+------+\n",
            "|Female|\n",
            "|  Male|\n",
            "|  Male|\n",
            "|  Male|\n",
            "|Female|\n",
            "+------+\n",
            "only showing top 5 rows\n",
            "\n"
          ]
        }
      ]
    },
    {
      "cell_type": "code",
      "source": [
        "df_pyspark.select([\"tip\", \"sex\"]).show(5)"
      ],
      "metadata": {
        "colab": {
          "base_uri": "https://localhost:8080/"
        },
        "id": "k-P2Ggj1xpQc",
        "outputId": "fd944b90-4699-40af-ad5f-e33e6e60cf99"
      },
      "execution_count": 14,
      "outputs": [
        {
          "output_type": "stream",
          "name": "stdout",
          "text": [
            "+----+------+\n",
            "| tip|   sex|\n",
            "+----+------+\n",
            "|1.01|Female|\n",
            "|1.66|  Male|\n",
            "| 3.5|  Male|\n",
            "|3.31|  Male|\n",
            "|3.61|Female|\n",
            "+----+------+\n",
            "only showing top 5 rows\n",
            "\n"
          ]
        }
      ]
    },
    {
      "cell_type": "code",
      "source": [
        "df_pyspark.select(df_pyspark[1], df_pyspark[2]).show(5)"
      ],
      "metadata": {
        "colab": {
          "base_uri": "https://localhost:8080/"
        },
        "id": "o1ag3S9vxrmW",
        "outputId": "787550b6-bed3-4ead-982c-5858f4f0e53d"
      },
      "execution_count": 17,
      "outputs": [
        {
          "output_type": "stream",
          "name": "stdout",
          "text": [
            "+----+------+\n",
            "| tip|   sex|\n",
            "+----+------+\n",
            "|1.01|Female|\n",
            "|1.66|  Male|\n",
            "| 3.5|  Male|\n",
            "|3.31|  Male|\n",
            "|3.61|Female|\n",
            "+----+------+\n",
            "only showing top 5 rows\n",
            "\n"
          ]
        }
      ]
    },
    {
      "cell_type": "code",
      "source": [
        "df_pyspark.describe().show()"
      ],
      "metadata": {
        "colab": {
          "base_uri": "https://localhost:8080/"
        },
        "id": "EG5TL395xtZV",
        "outputId": "e2c2330d-4dcc-40c5-89b5-c62e2e625749"
      },
      "execution_count": 18,
      "outputs": [
        {
          "output_type": "stream",
          "name": "stdout",
          "text": [
            "+-------+------------------+------------------+------+------+----+------+------------------+\n",
            "|summary|        total_bill|               tip|   sex|smoker| day|  time|              size|\n",
            "+-------+------------------+------------------+------+------+----+------+------------------+\n",
            "|  count|               244|               244|   244|   244| 244|   244|               244|\n",
            "|   mean|19.785942622950824|2.9982786885245902|  NULL|  NULL|NULL|  NULL| 2.569672131147541|\n",
            "| stddev| 8.902411954856857|1.3836381890011815|  NULL|  NULL|NULL|  NULL|0.9510998047322347|\n",
            "|    min|              3.07|               1.0|Female|    No| Fri|Dinner|                 1|\n",
            "|    max|             50.81|              10.0|  Male|   Yes|Thur| Lunch|                 6|\n",
            "+-------+------------------+------------------+------+------+----+------+------------------+\n",
            "\n"
          ]
        }
      ]
    },
    {
      "cell_type": "code",
      "source": [
        "df_pyspark = df_pyspark.withColumn(\"tip_bill_ratio\", (df_pyspark[\"tip\"]/df_pyspark[\"total_bill\"])*100)\n",
        "df_pyspark.show(5)"
      ],
      "metadata": {
        "colab": {
          "base_uri": "https://localhost:8080/"
        },
        "id": "OEK8JFlBx1dW",
        "outputId": "61870573-b9cc-4020-9590-d56c7d6e8222"
      },
      "execution_count": 19,
      "outputs": [
        {
          "output_type": "stream",
          "name": "stdout",
          "text": [
            "+----------+----+------+------+---+------+----+------------------+\n",
            "|total_bill| tip|   sex|smoker|day|  time|size|    tip_bill_ratio|\n",
            "+----------+----+------+------+---+------+----+------------------+\n",
            "|     16.99|1.01|Female|    No|Sun|Dinner|   2|5.9446733372572105|\n",
            "|     10.34|1.66|  Male|    No|Sun|Dinner|   3|16.054158607350097|\n",
            "|     21.01| 3.5|  Male|    No|Sun|Dinner|   3|16.658733936220845|\n",
            "|     23.68|3.31|  Male|    No|Sun|Dinner|   2| 13.97804054054054|\n",
            "|     24.59|3.61|Female|    No|Sun|Dinner|   4|14.680764538430255|\n",
            "+----------+----+------+------+---+------+----+------------------+\n",
            "only showing top 5 rows\n",
            "\n"
          ]
        }
      ]
    },
    {
      "cell_type": "code",
      "source": [
        "df_pyspark = df_pyspark.drop(\"tip_bill_ratio\")\n",
        "df_pyspark.show(5)"
      ],
      "metadata": {
        "colab": {
          "base_uri": "https://localhost:8080/"
        },
        "id": "IgAYNCXEx30Z",
        "outputId": "813e3806-9ff9-49c2-d9aa-34bc64f49bed"
      },
      "execution_count": 21,
      "outputs": [
        {
          "output_type": "stream",
          "name": "stdout",
          "text": [
            "+----------+----+------+------+---+------+----+\n",
            "|total_bill| tip|   sex|smoker|day|  time|size|\n",
            "+----------+----+------+------+---+------+----+\n",
            "|     16.99|1.01|Female|    No|Sun|Dinner|   2|\n",
            "|     10.34|1.66|  Male|    No|Sun|Dinner|   3|\n",
            "|     21.01| 3.5|  Male|    No|Sun|Dinner|   3|\n",
            "|     23.68|3.31|  Male|    No|Sun|Dinner|   2|\n",
            "|     24.59|3.61|Female|    No|Sun|Dinner|   4|\n",
            "+----------+----+------+------+---+------+----+\n",
            "only showing top 5 rows\n",
            "\n"
          ]
        }
      ]
    },
    {
      "cell_type": "code",
      "source": [
        "df_pyspark.withColumnRenamed(\"sex\", \"gender\").show(5)"
      ],
      "metadata": {
        "colab": {
          "base_uri": "https://localhost:8080/"
        },
        "id": "ANrLwQ_3x68l",
        "outputId": "e4f01710-04f5-40ca-ecbc-1739fe88cb31"
      },
      "execution_count": 22,
      "outputs": [
        {
          "output_type": "stream",
          "name": "stdout",
          "text": [
            "+----------+----+------+------+---+------+----+\n",
            "|total_bill| tip|gender|smoker|day|  time|size|\n",
            "+----------+----+------+------+---+------+----+\n",
            "|     16.99|1.01|Female|    No|Sun|Dinner|   2|\n",
            "|     10.34|1.66|  Male|    No|Sun|Dinner|   3|\n",
            "|     21.01| 3.5|  Male|    No|Sun|Dinner|   3|\n",
            "|     23.68|3.31|  Male|    No|Sun|Dinner|   2|\n",
            "|     24.59|3.61|Female|    No|Sun|Dinner|   4|\n",
            "+----------+----+------+------+---+------+----+\n",
            "only showing top 5 rows\n",
            "\n"
          ]
        }
      ]
    },
    {
      "cell_type": "code",
      "source": [
        "df_pyspark.withColumnRenamed(\"sex\", \"gender\").withColumnRenamed(\"time\", \"event\").show(5)"
      ],
      "metadata": {
        "colab": {
          "base_uri": "https://localhost:8080/"
        },
        "id": "ZUy2wPqrx9Ry",
        "outputId": "2bce667b-72c4-49fb-e6c7-db44bf29a008"
      },
      "execution_count": 23,
      "outputs": [
        {
          "output_type": "stream",
          "name": "stdout",
          "text": [
            "+----------+----+------+------+---+------+----+\n",
            "|total_bill| tip|gender|smoker|day| event|size|\n",
            "+----------+----+------+------+---+------+----+\n",
            "|     16.99|1.01|Female|    No|Sun|Dinner|   2|\n",
            "|     10.34|1.66|  Male|    No|Sun|Dinner|   3|\n",
            "|     21.01| 3.5|  Male|    No|Sun|Dinner|   3|\n",
            "|     23.68|3.31|  Male|    No|Sun|Dinner|   2|\n",
            "|     24.59|3.61|Female|    No|Sun|Dinner|   4|\n",
            "+----------+----+------+------+---+------+----+\n",
            "only showing top 5 rows\n",
            "\n"
          ]
        }
      ]
    },
    {
      "cell_type": "code",
      "source": [
        "### Two filtering conditions\n",
        "df_pyspark.filter((df_pyspark[\"tip\"] <= 1) | (df_pyspark[\"tip\"] >= 5)).select([\"total_bill\", \"tip\"]).show(5)\n"
      ],
      "metadata": {
        "colab": {
          "base_uri": "https://localhost:8080/"
        },
        "id": "Db-b8V36yBym",
        "outputId": "9bb282af-0ad7-4649-f999-17b7c593e8d4"
      },
      "execution_count": 24,
      "outputs": [
        {
          "output_type": "stream",
          "name": "stdout",
          "text": [
            "+----------+----+\n",
            "|total_bill| tip|\n",
            "+----------+----+\n",
            "|     35.26| 5.0|\n",
            "|     39.42|7.58|\n",
            "|     31.27| 5.0|\n",
            "|      30.4| 5.6|\n",
            "|     22.23| 5.0|\n",
            "+----------+----+\n",
            "only showing top 5 rows\n",
            "\n"
          ]
        }
      ]
    },
    {
      "cell_type": "code",
      "source": [
        "### Not operation\n",
        "df_pyspark.filter(~(df_pyspark[\"tip\"] <= 2)).select([\"total_bill\", \"tip\"]).show(5)"
      ],
      "metadata": {
        "colab": {
          "base_uri": "https://localhost:8080/"
        },
        "id": "ItT_ZsTXyTeU",
        "outputId": "a8763fac-4ef6-4528-e344-6ba81841f3da"
      },
      "execution_count": 25,
      "outputs": [
        {
          "output_type": "stream",
          "name": "stdout",
          "text": [
            "+----------+----+\n",
            "|total_bill| tip|\n",
            "+----------+----+\n",
            "|     21.01| 3.5|\n",
            "|     23.68|3.31|\n",
            "|     24.59|3.61|\n",
            "|     25.29|4.71|\n",
            "|     26.88|3.12|\n",
            "+----------+----+\n",
            "only showing top 5 rows\n",
            "\n"
          ]
        }
      ]
    },
    {
      "cell_type": "code",
      "source": [
        "df_pyspark.groupBy(\"sex\").sum().show()"
      ],
      "metadata": {
        "colab": {
          "base_uri": "https://localhost:8080/"
        },
        "id": "kY9SQi_eyWYp",
        "outputId": "83c28ae2-3846-498c-be7f-c12f994ab33c"
      },
      "execution_count": 26,
      "outputs": [
        {
          "output_type": "stream",
          "name": "stdout",
          "text": [
            "+------+------------------+-----------------+---------+\n",
            "|   sex|   sum(total_bill)|         sum(tip)|sum(size)|\n",
            "+------+------------------+-----------------+---------+\n",
            "|Female|1570.9499999999998|           246.51|      214|\n",
            "|  Male|3256.8200000000024|485.0700000000001|      413|\n",
            "+------+------------------+-----------------+---------+\n",
            "\n"
          ]
        }
      ]
    },
    {
      "cell_type": "code",
      "source": [
        "df_pyspark.groupBy(\"day\").max().select([\"day\", \"max(tip)\"]).show()"
      ],
      "metadata": {
        "colab": {
          "base_uri": "https://localhost:8080/"
        },
        "id": "TAB0JRwAyYfR",
        "outputId": "7e5b2d8e-e1b7-4409-81bd-1e0ca52b574f"
      },
      "execution_count": 27,
      "outputs": [
        {
          "output_type": "stream",
          "name": "stdout",
          "text": [
            "+----+--------+\n",
            "| day|max(tip)|\n",
            "+----+--------+\n",
            "|Thur|     6.7|\n",
            "| Sun|     6.5|\n",
            "| Sat|    10.0|\n",
            "| Fri|    4.73|\n",
            "+----+--------+\n",
            "\n"
          ]
        }
      ]
    },
    {
      "cell_type": "code",
      "source": [
        "df_pyspark.groupBy(\"day\").count().show()"
      ],
      "metadata": {
        "colab": {
          "base_uri": "https://localhost:8080/"
        },
        "id": "OE7lX_SxyatU",
        "outputId": "c4685ffa-6a2e-496e-c44b-f95bbc441839"
      },
      "execution_count": 28,
      "outputs": [
        {
          "output_type": "stream",
          "name": "stdout",
          "text": [
            "+----+-----+\n",
            "| day|count|\n",
            "+----+-----+\n",
            "|Thur|   62|\n",
            "| Sun|   76|\n",
            "| Sat|   87|\n",
            "| Fri|   19|\n",
            "+----+-----+\n",
            "\n"
          ]
        }
      ]
    },
    {
      "cell_type": "code",
      "source": [
        "df_pyspark.groupBy(\"sex\").agg({\"tip\": \"sum\", \"total_bill\": \"max\"}).show()"
      ],
      "metadata": {
        "colab": {
          "base_uri": "https://localhost:8080/"
        },
        "id": "_ksTxX4Tycsf",
        "outputId": "b7dc0145-63a2-451c-a0a1-e0cb20247c51"
      },
      "execution_count": 29,
      "outputs": [
        {
          "output_type": "stream",
          "name": "stdout",
          "text": [
            "+------+-----------------+---------------+\n",
            "|   sex|         sum(tip)|max(total_bill)|\n",
            "+------+-----------------+---------------+\n",
            "|Female|           246.51|           44.3|\n",
            "|  Male|485.0700000000001|          50.81|\n",
            "+------+-----------------+---------------+\n",
            "\n"
          ]
        }
      ]
    },
    {
      "cell_type": "code",
      "source": [],
      "metadata": {
        "id": "GIJM2gmmyjcD"
      },
      "execution_count": null,
      "outputs": []
    }
  ]
}